{
 "cells": [
  {
   "attachments": {},
   "cell_type": "markdown",
   "metadata": {
    "collapsed": true,
    "id": "GKPL0iARvKiY"
   },
   "source": [
    "#  Lab 07 Solution - Knowledge Tracing\n",
    "## Introduction\n",
    "\n",
    "During the last lectures and lab session, you have dealt into one notable application of machine learning in education, namely knowledge tracing. Machine-learning models optimized for this task aim to understand how well a student is learning a portfolio of skills. Monitoring this knowledge by means of automated models allows to personalize online learning platforms, focusing the assessment on skills the student is weak in and accelerating learning of certain skills.\n",
    "\n",
    "You are asked to work on the ASSISTment data set presented last week and to complete the following tasks:\n",
    "\n",
    "- Compare three knowledge tracing models (BKT, AFM, PFA) in terms of AUC and RMSE.\n",
    "- Generate and discuss the learning curves for a BKT model on a specific set of skills. \n",
    "\n",
    "You can use [pyBKT](https://github.com/CAHLR/pyBKT) and [pyAFM](https://github.com/cmaclell/pyAFM/) throughout this tutorial."
   ]
  },
  {
   "cell_type": "code",
   "execution_count": null,
   "metadata": {},
   "outputs": [],
   "source": [
    "# Principal package imports\n",
    "import matplotlib.pyplot as plt\n",
    "import seaborn as sns\n",
    "import pandas as pd\n",
    "import numpy as np\n",
    "import scipy as sc\n",
    "\n",
    "# Scikit-learn package imports\n",
    "from sklearn import feature_extraction, model_selection, metrics\n",
    "\n",
    "### YOUR ADDITIONAL IMPORT STATEMENTS BELOW (please, do not make any imports elsewhere in the notebook) ###\n",
    "\n",
    "# PyBKT package imports\n",
    "from pyBKT.models import Model\n",
    "\n",
    "# PyAFM package imports\n",
    "from pyafm.custom_logistic import CustomLogistic"
   ]
  },
  {
   "cell_type": "markdown",
   "metadata": {
    "id": "zfGO_wGvvKif"
   },
   "source": [
    "## The Data Set\n",
    "---\n",
    "\n",
    "ASSISTments is a free tool for assigning and assessing math problems and homework. Teachers can select and assign problem sets. Once they get an assignment, students can complete it at their own pace and with the help of hints, multiple chances, and immediate feedback. Teachers get instant results broken down by individual student or for the whole class. More information on the platform can be found [here](https://www.commonsense.org/education/website/assistments). \n",
    "\n",
    "We will play with a simplified version of a dataset collected from the ASSISTments tool, saved in a CSV file with the following columns:  \n",
    "\n",
    "\n",
    "| Name                   | Description                         |\n",
    "| ---------------------- | ------------------------------------------------------------ |\n",
    "| user_id | The ID of the student who is solving the problem.  | |\n",
    "| order_id | The temporal ID (timestamp) associated with the student's answer to the problem.  | |\n",
    "| problem_id | The ID of the problem.  | |\n",
    "| skill_name | The name of the skill associated with the problem. | |\n",
    "| correct | The student's performance on the problem: 1 if the problem's answer is correct at the first attempt, 0 otherwise. \n",
    "| prior_success | The number of prior problems on that skill the student correctly answered at the first attempt. \n",
    "| prior_failure | The number of prior problems on that skill the student wrongly answered at the first attempt.  | |"
   ]
  },
  {
   "cell_type": "markdown",
   "metadata": {
    "id": "ypX6jsWjvKig"
   },
   "source": [
    "Load the data set. "
   ]
  },
  {
   "cell_type": "code",
   "execution_count": 2,
   "metadata": {
    "id": "LiKya7oLvKig"
   },
   "outputs": [],
   "source": [
    "DATA_DIR = \"./../../data/\"\n",
    "data = pd.read_csv(DATA_DIR + 'as_hw_cmp.csv')"
   ]
  },
  {
   "cell_type": "markdown",
   "metadata": {
    "id": "nAkMnXmKvKih"
   },
   "source": [
    "As a first step, we compute the total number of interactions, the number of unique students, and the number of unique skills. "
   ]
  },
  {
   "cell_type": "code",
   "execution_count": 3,
   "metadata": {
    "id": "kU0z2axdvKih",
    "outputId": "abcf5a52-0aaa-4dd9-aeb0-92f60bc8b164"
   },
   "outputs": [
    {
     "data": {
      "text/plain": [
       "(26409, 1014, 3)"
      ]
     },
     "execution_count": 3,
     "metadata": {},
     "output_type": "execute_result"
    }
   ],
   "source": [
    "len(data.index), len(data['user_id'].unique()), len(data['skill_name'].unique())"
   ]
  },
  {
   "cell_type": "markdown",
   "metadata": {
    "id": "FMEpYTNzELp6"
   },
   "source": [
    "We then also take a look at the skills included in the data set. "
   ]
  },
  {
   "cell_type": "code",
   "execution_count": 4,
   "metadata": {
    "id": "yKXifIO4ELp6",
    "outputId": "d1f09008-3abf-495b-c05f-0a7ebd058778"
   },
   "outputs": [
    {
     "data": {
      "text/plain": [
       "array(['Circle Graph', 'Venn Diagram', 'Mode'], dtype=object)"
      ]
     },
     "execution_count": 4,
     "metadata": {},
     "output_type": "execute_result"
    }
   ],
   "source": [
    "data['skill_name'].unique()"
   ]
  },
  {
   "cell_type": "markdown",
   "metadata": {
    "id": "S34jYZaIvKij"
   },
   "source": [
    "Finally, we show the first ten rows of the data dataframe, to have an idea of how the data looks like. "
   ]
  },
  {
   "cell_type": "code",
   "execution_count": 5,
   "metadata": {
    "id": "v61iwj7yvKij",
    "outputId": "7ede8b4d-1912-4dad-af90-f6edea11d594"
   },
   "outputs": [
    {
     "data": {
      "text/html": [
       "<div>\n",
       "<style scoped>\n",
       "    .dataframe tbody tr th:only-of-type {\n",
       "        vertical-align: middle;\n",
       "    }\n",
       "\n",
       "    .dataframe tbody tr th {\n",
       "        vertical-align: top;\n",
       "    }\n",
       "\n",
       "    .dataframe thead th {\n",
       "        text-align: right;\n",
       "    }\n",
       "</style>\n",
       "<table border=\"1\" class=\"dataframe\">\n",
       "  <thead>\n",
       "    <tr style=\"text-align: right;\">\n",
       "      <th></th>\n",
       "      <th>user_id</th>\n",
       "      <th>order_id</th>\n",
       "      <th>problem_id</th>\n",
       "      <th>skill_name</th>\n",
       "      <th>correct</th>\n",
       "      <th>prior_success</th>\n",
       "      <th>prior_failure</th>\n",
       "    </tr>\n",
       "  </thead>\n",
       "  <tbody>\n",
       "    <tr>\n",
       "      <th>0</th>\n",
       "      <td>14</td>\n",
       "      <td>21617623</td>\n",
       "      <td>93383</td>\n",
       "      <td>Circle Graph</td>\n",
       "      <td>0</td>\n",
       "      <td>0</td>\n",
       "      <td>0</td>\n",
       "    </tr>\n",
       "    <tr>\n",
       "      <th>1</th>\n",
       "      <td>14</td>\n",
       "      <td>21617632</td>\n",
       "      <td>93407</td>\n",
       "      <td>Circle Graph</td>\n",
       "      <td>1</td>\n",
       "      <td>0</td>\n",
       "      <td>1</td>\n",
       "    </tr>\n",
       "    <tr>\n",
       "      <th>2</th>\n",
       "      <td>14</td>\n",
       "      <td>21617641</td>\n",
       "      <td>93400</td>\n",
       "      <td>Circle Graph</td>\n",
       "      <td>0</td>\n",
       "      <td>1</td>\n",
       "      <td>1</td>\n",
       "    </tr>\n",
       "    <tr>\n",
       "      <th>3</th>\n",
       "      <td>14</td>\n",
       "      <td>21617650</td>\n",
       "      <td>93419</td>\n",
       "      <td>Circle Graph</td>\n",
       "      <td>0</td>\n",
       "      <td>1</td>\n",
       "      <td>2</td>\n",
       "    </tr>\n",
       "    <tr>\n",
       "      <th>4</th>\n",
       "      <td>14</td>\n",
       "      <td>21617659</td>\n",
       "      <td>93420</td>\n",
       "      <td>Circle Graph</td>\n",
       "      <td>0</td>\n",
       "      <td>1</td>\n",
       "      <td>3</td>\n",
       "    </tr>\n",
       "    <tr>\n",
       "      <th>5</th>\n",
       "      <td>14</td>\n",
       "      <td>21617667</td>\n",
       "      <td>93415</td>\n",
       "      <td>Circle Graph</td>\n",
       "      <td>0</td>\n",
       "      <td>1</td>\n",
       "      <td>4</td>\n",
       "    </tr>\n",
       "    <tr>\n",
       "      <th>6</th>\n",
       "      <td>14</td>\n",
       "      <td>21617675</td>\n",
       "      <td>93423</td>\n",
       "      <td>Circle Graph</td>\n",
       "      <td>0</td>\n",
       "      <td>1</td>\n",
       "      <td>5</td>\n",
       "    </tr>\n",
       "    <tr>\n",
       "      <th>7</th>\n",
       "      <td>14</td>\n",
       "      <td>21617692</td>\n",
       "      <td>57695</td>\n",
       "      <td>Circle Graph</td>\n",
       "      <td>0</td>\n",
       "      <td>1</td>\n",
       "      <td>6</td>\n",
       "    </tr>\n",
       "    <tr>\n",
       "      <th>8</th>\n",
       "      <td>14</td>\n",
       "      <td>21617731</td>\n",
       "      <td>58596</td>\n",
       "      <td>Circle Graph</td>\n",
       "      <td>1</td>\n",
       "      <td>1</td>\n",
       "      <td>7</td>\n",
       "    </tr>\n",
       "    <tr>\n",
       "      <th>9</th>\n",
       "      <td>14</td>\n",
       "      <td>21617749</td>\n",
       "      <td>57647</td>\n",
       "      <td>Circle Graph</td>\n",
       "      <td>0</td>\n",
       "      <td>2</td>\n",
       "      <td>7</td>\n",
       "    </tr>\n",
       "    <tr>\n",
       "      <th>10</th>\n",
       "      <td>14</td>\n",
       "      <td>21617805</td>\n",
       "      <td>58566</td>\n",
       "      <td>Circle Graph</td>\n",
       "      <td>1</td>\n",
       "      <td>2</td>\n",
       "      <td>8</td>\n",
       "    </tr>\n",
       "    <tr>\n",
       "      <th>11</th>\n",
       "      <td>14</td>\n",
       "      <td>21617825</td>\n",
       "      <td>58551</td>\n",
       "      <td>Circle Graph</td>\n",
       "      <td>0</td>\n",
       "      <td>3</td>\n",
       "      <td>8</td>\n",
       "    </tr>\n",
       "    <tr>\n",
       "      <th>12</th>\n",
       "      <td>64525</td>\n",
       "      <td>28186893</td>\n",
       "      <td>92320</td>\n",
       "      <td>Circle Graph</td>\n",
       "      <td>1</td>\n",
       "      <td>0</td>\n",
       "      <td>0</td>\n",
       "    </tr>\n",
       "    <tr>\n",
       "      <th>13</th>\n",
       "      <td>64525</td>\n",
       "      <td>28187093</td>\n",
       "      <td>92335</td>\n",
       "      <td>Circle Graph</td>\n",
       "      <td>1</td>\n",
       "      <td>1</td>\n",
       "      <td>0</td>\n",
       "    </tr>\n",
       "    <tr>\n",
       "      <th>14</th>\n",
       "      <td>64525</td>\n",
       "      <td>32413158</td>\n",
       "      <td>92327</td>\n",
       "      <td>Circle Graph</td>\n",
       "      <td>1</td>\n",
       "      <td>2</td>\n",
       "      <td>0</td>\n",
       "    </tr>\n",
       "    <tr>\n",
       "      <th>15</th>\n",
       "      <td>64525</td>\n",
       "      <td>33022751</td>\n",
       "      <td>93432</td>\n",
       "      <td>Circle Graph</td>\n",
       "      <td>0</td>\n",
       "      <td>3</td>\n",
       "      <td>0</td>\n",
       "    </tr>\n",
       "    <tr>\n",
       "      <th>16</th>\n",
       "      <td>64525</td>\n",
       "      <td>33023039</td>\n",
       "      <td>93447</td>\n",
       "      <td>Circle Graph</td>\n",
       "      <td>1</td>\n",
       "      <td>3</td>\n",
       "      <td>1</td>\n",
       "    </tr>\n",
       "    <tr>\n",
       "      <th>17</th>\n",
       "      <td>64525</td>\n",
       "      <td>33023131</td>\n",
       "      <td>93448</td>\n",
       "      <td>Circle Graph</td>\n",
       "      <td>1</td>\n",
       "      <td>4</td>\n",
       "      <td>1</td>\n",
       "    </tr>\n",
       "    <tr>\n",
       "      <th>18</th>\n",
       "      <td>64525</td>\n",
       "      <td>33023183</td>\n",
       "      <td>93429</td>\n",
       "      <td>Circle Graph</td>\n",
       "      <td>1</td>\n",
       "      <td>5</td>\n",
       "      <td>1</td>\n",
       "    </tr>\n",
       "    <tr>\n",
       "      <th>19</th>\n",
       "      <td>64525</td>\n",
       "      <td>33023245</td>\n",
       "      <td>57689</td>\n",
       "      <td>Circle Graph</td>\n",
       "      <td>0</td>\n",
       "      <td>6</td>\n",
       "      <td>1</td>\n",
       "    </tr>\n",
       "  </tbody>\n",
       "</table>\n",
       "</div>"
      ],
      "text/plain": [
       "    user_id  order_id  problem_id    skill_name  correct  prior_success  \\\n",
       "0        14  21617623       93383  Circle Graph        0              0   \n",
       "1        14  21617632       93407  Circle Graph        1              0   \n",
       "2        14  21617641       93400  Circle Graph        0              1   \n",
       "3        14  21617650       93419  Circle Graph        0              1   \n",
       "4        14  21617659       93420  Circle Graph        0              1   \n",
       "5        14  21617667       93415  Circle Graph        0              1   \n",
       "6        14  21617675       93423  Circle Graph        0              1   \n",
       "7        14  21617692       57695  Circle Graph        0              1   \n",
       "8        14  21617731       58596  Circle Graph        1              1   \n",
       "9        14  21617749       57647  Circle Graph        0              2   \n",
       "10       14  21617805       58566  Circle Graph        1              2   \n",
       "11       14  21617825       58551  Circle Graph        0              3   \n",
       "12    64525  28186893       92320  Circle Graph        1              0   \n",
       "13    64525  28187093       92335  Circle Graph        1              1   \n",
       "14    64525  32413158       92327  Circle Graph        1              2   \n",
       "15    64525  33022751       93432  Circle Graph        0              3   \n",
       "16    64525  33023039       93447  Circle Graph        1              3   \n",
       "17    64525  33023131       93448  Circle Graph        1              4   \n",
       "18    64525  33023183       93429  Circle Graph        1              5   \n",
       "19    64525  33023245       57689  Circle Graph        0              6   \n",
       "\n",
       "    prior_failure  \n",
       "0               0  \n",
       "1               1  \n",
       "2               1  \n",
       "3               2  \n",
       "4               3  \n",
       "5               4  \n",
       "6               5  \n",
       "7               6  \n",
       "8               7  \n",
       "9               7  \n",
       "10              8  \n",
       "11              8  \n",
       "12              0  \n",
       "13              0  \n",
       "14              0  \n",
       "15              0  \n",
       "16              1  \n",
       "17              1  \n",
       "18              1  \n",
       "19              1  "
      ]
     },
     "execution_count": 5,
     "metadata": {},
     "output_type": "execute_result"
    }
   ],
   "source": [
    "data.head(20)"
   ]
  },
  {
   "cell_type": "markdown",
   "metadata": {
    "id": "SnyKfbhyvKik"
   },
   "source": [
    "<a id=\"section1\"></a>\n",
    "## 1  Knowledge Tracing: Model Performance Comparison \n",
    "----\n",
    "\n",
    "In this section, we ask you to evaluate (i) a Bayesian Knowledge Tracing (BKT) model, (ii) an Additive Factor Model (AFM), and (iii) a Performance Factor Analysis (PFA) model on the skills 'Circle Graph', 'Venn Diagram', and 'Mode', by performing a user-stratified 10-fold cross validation and monitoring the Root Mean Squared Error (RMSE) and the Area Under the ROC Curve (AUC) as performance metrics. Then, we ask you to visually report the RMSE and AUC scores achieved by the three student's models in the user-stratified 10-fold cross validation, in such a way that the models' performance can be easily and appropriately compared against each other.\n",
    "\n",
    "For your convenience, you will be guided in completing this section through seven main tasks:\n",
    "- Task 1.1: Group k-fold initialization.\n",
    "- Task 1.2: BKT evaluation.\n",
    "- Task 1.3: AFM evaluation.\n",
    "- Task 1.4: PFA evaluation.\n",
    "- Task 1.5: Performance metrics plotting.\n",
    "- Task 1.6: Performance metrics discussion. "
   ]
  },
  {
   "cell_type": "markdown",
   "metadata": {
    "id": "x6sl6eJevKil"
   },
   "source": [
    "<a id=\"section1.1\"></a>\n",
    "### Task 1.1\n",
    "\n",
    "Given that the main objective of this homework section is to evaluate three student's knowledge tracing models under a `user-stratified 10-fold cross validation`, in this task, we ask you to complete the body of a function named `create_iterator`. This function should create an iterator object able to split student's interactions included in `data` in `10 folds` such that the same student does not appear in two different folds. To do so, you can appropriately initialize a scikit-learn's GroupKFold iterator with non-overlapping groups and returning the iterator, i.e., `model_selection.GroupKFold(...).split(...)`. \n",
    "\n",
    "For convenience, we present you an illustrative example assuming that (i) you have four data samples and that (ii) the first two data samples belong to group 0 and the last two data samples belong to group 2. The data samples associated with a group should not appear in multiple folds or, in other words, the data samples associated with a group should appear all in the same fold. Please, find below a way to use the scikit-learn's GroupKFold object to create folds that meet this property (here, we simulate this scenario by considering only a 2-fold creation strategy):\n",
    "\n",
    "`X = np.array([[1, 2], [3, 4], [5, 6], [7, 8]])\n",
    "y = np.array([1, 2, 3, 4])\n",
    "groups = np.array([0, 0, 2, 2])\n",
    "group_kfold = model_selection.GroupKFold(n_splits=2).split(X, y, groups)\n",
    "`\n",
    "\n",
    "Finally, we provide an illustrative example not related with the task on how this iterator can be then used to generate training and test folds:\n",
    "\n",
    "`\n",
    "for train_index, test_index in group_kfold:\n",
    "    print('TRAIN:', train_index, 'TEST:', test_index)\n",
    "    X_train, X_test = X[train_index], X[test_index]\n",
    "    y_train, y_test = y[train_index], y[test_index]\n",
    "    print(X_train, '-', X_test, '-', y_train, '-', y_test)\n",
    "`\n",
    "\n",
    "The above for loop generates the following output. It can be observed that the data samples belonging to a group all appear in the same fold, as expected. \n",
    "\n",
    "`TRAIN: [0 1] TEST: [2 3]\n",
    "[[1 2] [3 4]] - [[5 6] [7 8]] - [1 2] - [3 4] \n",
    "`\n",
    "\n",
    "`\n",
    "TRAIN: [2 3] TEST: [0 1]\n",
    "[[5 6] [7 8]] - [[1 2] [3 4]] - [3 4] - [1 2]\n",
    "`\n",
    "\n",
    "Please, find more information about the GroupKFold iterator in the [scikit-learn](https://scikit-learn.org/stable/modules/generated/sklearn.model_selection.GroupKFold.html) documentation."
   ]
  },
  {
   "cell_type": "code",
   "execution_count": 6,
   "metadata": {
    "id": "wc690YVPvKim"
   },
   "outputs": [],
   "source": [
    "def create_iterator(data):\n",
    "    '''\n",
    "    Create an iterator to split interactions in data in 10 folds, with the same student not appearing in two diverse folds.\n",
    "    :param data:        Dataframe with student's interactions.\n",
    "    :return:            An iterator.\n",
    "    '''\n",
    "    ### YOUR CODE HERE ###\n",
    "    \n",
    "    # Both passing a matrix with the raw data or just an array of indexes works\n",
    "    X = np.arange(len(data.index)) \n",
    "    # Groups of interactions are identified by the user id (we do not want the same user appearing in two folds)\n",
    "    groups = data['user_id'].values \n",
    "    return model_selection.GroupKFold(n_splits=10).split(X, groups=groups)"
   ]
  },
  {
   "cell_type": "markdown",
   "metadata": {
    "id": "rYAUD8CnELp9"
   },
   "source": [
    "Let's check the output of this function and a few properties of the iterator. "
   ]
  },
  {
   "cell_type": "code",
   "execution_count": 7,
   "metadata": {
    "id": "90IiU1MuELp9",
    "outputId": "051bf4d0-a3c2-40f1-ee4d-85cf580836f2"
   },
   "outputs": [
    {
     "name": "stdout",
     "output_type": "stream",
     "text": [
      "Iteration: 0\n",
      "Intersection between train and test user ids: set()\n",
      "All user ids in train and test user union: True\n",
      "User ids tested more than once: set()\n",
      "\n",
      "Iteration: 1\n",
      "Intersection between train and test user ids: set()\n",
      "All user ids in train and test user union: True\n",
      "User ids tested more than once: set()\n",
      "\n",
      "Iteration: 2\n",
      "Intersection between train and test user ids: set()\n",
      "All user ids in train and test user union: True\n",
      "User ids tested more than once: set()\n",
      "\n",
      "Iteration: 3\n",
      "Intersection between train and test user ids: set()\n",
      "All user ids in train and test user union: True\n",
      "User ids tested more than once: set()\n",
      "\n",
      "Iteration: 4\n",
      "Intersection between train and test user ids: set()\n",
      "All user ids in train and test user union: True\n",
      "User ids tested more than once: set()\n",
      "\n",
      "Iteration: 5\n",
      "Intersection between train and test user ids: set()\n",
      "All user ids in train and test user union: True\n",
      "User ids tested more than once: set()\n",
      "\n",
      "Iteration: 6\n",
      "Intersection between train and test user ids: set()\n",
      "All user ids in train and test user union: True\n",
      "User ids tested more than once: set()\n",
      "\n",
      "Iteration: 7\n",
      "Intersection between train and test user ids: set()\n",
      "All user ids in train and test user union: True\n",
      "User ids tested more than once: set()\n",
      "\n",
      "Iteration: 8\n",
      "Intersection between train and test user ids: set()\n",
      "All user ids in train and test user union: True\n",
      "User ids tested more than once: set()\n",
      "\n",
      "Iteration: 9\n",
      "Intersection between train and test user ids: set()\n",
      "All user ids in train and test user union: True\n",
      "User ids tested more than once: set()\n",
      "\n"
     ]
    }
   ],
   "source": [
    "tested_user_ids = set()\n",
    "for iteration, (train_index, test_index) in enumerate(create_iterator(data)):\n",
    "    user_ids = data['user_id'].unique()\n",
    "    train_user_ids = data.iloc[train_index]['user_id'].unique()\n",
    "    test_user_ids = data.iloc[test_index]['user_id'].unique()\n",
    "    print('Iteration:', iteration)\n",
    "    print('Intersection between train and test user ids:', set(train_user_ids) & set(test_user_ids))\n",
    "    print('All user ids in train and test user union:', len(set(train_user_ids).union(set(test_user_ids))) == len(user_ids))\n",
    "    print('User ids tested more than once:', set(tested_user_ids) & set(test_user_ids))\n",
    "    tested_user_ids = tested_user_ids.union(set(test_user_ids))\n",
    "    print()"
   ]
  },
  {
   "cell_type": "code",
   "execution_count": 8,
   "metadata": {
    "id": "KR7XMITrELp-",
    "outputId": "955eb830-5038-40f3-d286-d5622f45e7d4"
   },
   "outputs": [
    {
     "data": {
      "text/plain": [
       "True"
      ]
     },
     "execution_count": 8,
     "metadata": {},
     "output_type": "execute_result"
    }
   ],
   "source": [
    "len(tested_user_ids) == len(user_ids)"
   ]
  },
  {
   "cell_type": "markdown",
   "metadata": {
    "id": "b-KpPEx3ELp_"
   },
   "source": [
    "On a given iteration, no user appears in both training and test sets. The union of the users in both training and test sets given us the full set of user ids in the dataset. Each user appears in the test set exactly once.  "
   ]
  },
  {
   "cell_type": "markdown",
   "metadata": {
    "id": "xzAgb7WgvKin"
   },
   "source": [
    "<a id=\"section1.2\"></a>\n",
    "### Task 1.2\n",
    "\n",
    "In this task, we ask you to evaluate a `BKT model` with all default parameters, namely `Model(seed=0)` in pyBKT, through a `10-fold user-stratified cross-validation`, computing the following performance metrics: `RMSE` and `AUC`. To do so, you should use the `create_iterator` function, defined in Task 1.2, to create the training and test set for each fold, starting from the interactions in `data`. \n",
    "\n",
    "No plotting is needed, it is enough to print the scores for each metric in the cell.\n",
    "\n",
    "Please, note that this task may require a long running time (e.g., about 40 to 90 minutes), depending on your implementation. Just as an indication, on a Dell XPS 13, one fold lasts around 7 minutes.  "
   ]
  },
  {
   "cell_type": "code",
   "execution_count": 9,
   "metadata": {
    "id": "25wgCefYvKin",
    "outputId": "cf17073b-278d-428d-b2a4-b0e763809144"
   },
   "outputs": [
    {
     "name": "stdout",
     "output_type": "stream",
     "text": [
      "Wall time: 6min 30s\n",
      "Iteration: 0 RMSE (0.3619326883451476, 0.3627377393397434) AUC (0.8768635724803968, 0.8804119587687254)\n",
      "Wall time: 8min 1s\n",
      "Iteration: 1 RMSE (0.3623758521598453, 0.35652947004237456) AUC (0.8777360935826011, 0.871462831416175)\n",
      "Wall time: 7min 37s\n",
      "Iteration: 2 RMSE (0.36146775831619693, 0.3685555348264736) AUC (0.8785462996317557, 0.8645564407924567)\n",
      "Wall time: 6min 32s\n",
      "Iteration: 3 RMSE (0.36123289139100484, 0.3765145626874925) AUC (0.8785240813856332, 0.8692037292316623)\n",
      "Wall time: 7min 24s\n",
      "Iteration: 4 RMSE (0.3612297575354389, 0.37934386367709344) AUC (0.8772757259188736, 0.8785882024159103)\n",
      "Wall time: 6min 37s\n",
      "Iteration: 5 RMSE (0.36384158637003744, 0.3501882134966003) AUC (0.8766541779809577, 0.885324470100699)\n",
      "Wall time: 7min 37s\n",
      "Iteration: 6 RMSE (0.36361727299904206, 0.3499285472259435) AUC (0.8749834945119513, 0.8995316915740698)\n",
      "Wall time: 5min 59s\n",
      "Iteration: 7 RMSE (0.3614092428844653, 0.3662077388390171) AUC (0.8796324144055722, 0.8541902758970246)\n",
      "Wall time: 8min 12s\n",
      "Iteration: 8 RMSE (0.36266788598266114, 0.36405419887577556) AUC (0.8765203013778682, 0.884975143324418)\n",
      "Wall time: 8min 17s\n",
      "Iteration: 9 RMSE (0.3633233826910702, 0.35314683335159985) AUC (0.8788799587872089, 0.8733444928021428)\n"
     ]
    }
   ],
   "source": [
    "### YOUR CODE HERE (please, feel free to add extra cells to solve this task, after this first one) ###\n",
    "rmse_bkt, auc_bkt = [], []\n",
    "for iteration, (train_index, test_index) in enumerate(create_iterator(data)):\n",
    "    # Split data in training and test sets\n",
    "    X_train, X_test = data.iloc[train_index], data.iloc[test_index]\n",
    "    # Initialize and fit the model\n",
    "    model = Model(seed=0)\n",
    "    %time model.fit(data=X_train) \n",
    "    # Compute RMSE\n",
    "    train_rmse = model.evaluate(data=X_train, metric='rmse')\n",
    "    test_rmse = model.evaluate(data=X_test, metric='rmse')\n",
    "    rmse_bkt.append(test_rmse)\n",
    "    # Compute AUC\n",
    "    train_auc = model.evaluate(data=X_train, metric='auc')\n",
    "    test_auc = model.evaluate(data=X_test, metric='auc')\n",
    "    auc_bkt.append(test_auc)\n",
    "    # Print progress\n",
    "    print('Iteration:', iteration, 'RMSE', (train_rmse, test_rmse), 'AUC', (train_auc, test_auc))"
   ]
  },
  {
   "cell_type": "markdown",
   "metadata": {
    "id": "1Wv-Er6CELqA"
   },
   "source": [
    "Finally, we show the mean and the standard deviation of the RMSE and AUC across folds. "
   ]
  },
  {
   "cell_type": "code",
   "execution_count": 10,
   "metadata": {
    "id": "PvIkmj4LELqA",
    "outputId": "11c4eaf9-783a-434b-f4db-072ef6609224"
   },
   "outputs": [
    {
     "data": {
      "text/plain": [
       "('RMSE', 0.3627206702362114, 0.009824846598894346)"
      ]
     },
     "execution_count": 10,
     "metadata": {},
     "output_type": "execute_result"
    }
   ],
   "source": [
    "'RMSE', np.mean(rmse_bkt), np.std(rmse_bkt)"
   ]
  },
  {
   "cell_type": "code",
   "execution_count": 11,
   "metadata": {
    "id": "rTcn_bDNELqA",
    "outputId": "ca190ed0-d630-46f7-b103-65ec3489d4c6"
   },
   "outputs": [
    {
     "data": {
      "text/plain": [
       "('AUC', 0.8761589236323284, 0.011948209404677711)"
      ]
     },
     "execution_count": 11,
     "metadata": {},
     "output_type": "execute_result"
    }
   ],
   "source": [
    "'AUC', np.mean(auc_bkt), np.std(auc_bkt)"
   ]
  },
  {
   "cell_type": "markdown",
   "metadata": {
    "id": "OeI5jhXCvKiq"
   },
   "source": [
    "<a id=\"section1.3\"></a>\n",
    "### Task 1.3\n",
    "\n",
    "In this task, we ask you to evaluate an `AFM model` with all default parameters (e.g., no custom bounds, default l2 regularization, and fit_intercept=True) through a `10-fold user-stratified cross-validation`, computing the following performance metrics: `RMSE` and `AUC`. To do so, exactly as you should have done for the BKT model in Task 1.3, you should use the `create_iterator` function, defined in Task 1.2, to create the training and test set for each fold, starting from the interactions in `data`. \n",
    "\n",
    "No plotting is needed, it is enough to print the scores for each metric in the cell.\n",
    "\n",
    "The following cells include some utility functions that are needed to generate the `X` and `y` data in a format that is accepted by pyAFM model objects. To complete this task, you can build on top of the `X` and `y` created for you with the following cells. Please, refer to Tutorial 6 for further information on pyAFM. "
   ]
  },
  {
   "cell_type": "code",
   "execution_count": 12,
   "metadata": {
    "id": "Snneh2D8vKir"
   },
   "outputs": [],
   "source": [
    "def read_as_student_step(data):    \n",
    "    skills, opportunities, corrects, user_ids = [], [], [], []\n",
    "    \n",
    "    for row_id, (_, row) in enumerate(data.iterrows()):\n",
    "        \n",
    "        # Get attributes for the current interaction \n",
    "        user_id = row['user_id']\n",
    "        skill_name = row['skill_name']\n",
    "        correct = row['correct']\n",
    "        prior_success = row['prior_success']\n",
    "        prior_failure = row['prior_failure']\n",
    "        \n",
    "        # Update the number of opportunities this student had with this skill\n",
    "        opportunities.append({skill_name: prior_success + prior_failure})\n",
    "        \n",
    "        # Update information in the current \n",
    "        skills.append({skill_name: 1})\n",
    "\n",
    "        # Answer info\n",
    "        corrects.append(correct)\n",
    "        \n",
    "        # Student info\n",
    "        user_ids.append({user_id: 1})\n",
    "        \n",
    "    return (skills, opportunities, corrects, user_ids)"
   ]
  },
  {
   "cell_type": "code",
   "execution_count": 13,
   "metadata": {
    "id": "gjk4wh0XvKir"
   },
   "outputs": [],
   "source": [
    "def prepare_data_afm(skills, opportunities, corrects, user_ids):\n",
    "\n",
    "    sv = feature_extraction.DictVectorizer()\n",
    "    qv = feature_extraction.DictVectorizer()\n",
    "    ov = feature_extraction.DictVectorizer()\n",
    "    S = sv.fit_transform(user_ids)\n",
    "    Q = qv.fit_transform(skills)\n",
    "    O = ov.fit_transform(opportunities)\n",
    "    X = sc.sparse.hstack((S, Q, O))\n",
    "    y = np.array(corrects)\n",
    "\n",
    "    return (X.toarray(), y)"
   ]
  },
  {
   "cell_type": "markdown",
   "metadata": {
    "id": "NLqHV0wLvKis"
   },
   "source": [
    "Prepare the X and y arrays to be used to evaluate the AFM model. "
   ]
  },
  {
   "cell_type": "code",
   "execution_count": 14,
   "metadata": {
    "id": "nyHpdmyMvKis",
    "outputId": "2e13212d-18f2-41f7-9b54-104f80f77bbd"
   },
   "outputs": [
    {
     "name": "stdout",
     "output_type": "stream",
     "text": [
      "Wall time: 3.25 s\n",
      "Wall time: 161 ms\n"
     ]
    }
   ],
   "source": [
    "%time skills, opportunities, corrects, user_ids = read_as_student_step(data)\n",
    "%time X, y = prepare_data_afm(skills, opportunities, corrects, user_ids)"
   ]
  },
  {
   "cell_type": "code",
   "execution_count": 15,
   "metadata": {
    "id": "OJ803xnyvKit"
   },
   "outputs": [
    {
     "name": "stdout",
     "output_type": "stream",
     "text": [
      "Wall time: 12.4 s\n",
      "Iteration: 0 RMSE (0.3588795022813869, 0.45202131504519033) AUC (0.8573893360851267, 0.6130214085464276)\n",
      "Wall time: 9.38 s\n",
      "Iteration: 1 RMSE (0.358820570463362, 0.4140457202925771) AUC (0.8599132460943775, 0.6829414951498932)\n",
      "Wall time: 11.4 s\n",
      "Iteration: 2 RMSE (0.36066012598738856, 0.41602149060121024) AUC (0.8557095628637055, 0.6852909560866977)\n",
      "Wall time: 11.5 s\n",
      "Iteration: 3 RMSE (0.35944514606534345, 0.44356724973709066) AUC (0.8562528592307947, 0.6138551113690778)\n",
      "Wall time: 12.3 s\n",
      "Iteration: 4 RMSE (0.3575889560213242, 0.4341065247494938) AUC (0.8578727813677345, 0.7078581737186332)\n",
      "Wall time: 11.3 s\n",
      "Iteration: 5 RMSE (0.36185077745423777, 0.3972852615444283) AUC (0.8538340075189449, 0.7296433207291607)\n",
      "Wall time: 15.1 s\n",
      "Iteration: 6 RMSE (0.3592706434559734, 0.42327898547747866) AUC (0.8566766924289391, 0.713221927205779)\n",
      "Wall time: 12.7 s\n",
      "Iteration: 7 RMSE (0.3579997163243513, 0.4150620859259244) AUC (0.8608480096454952, 0.7035631340449515)\n",
      "Wall time: 12.4 s\n",
      "Iteration: 8 RMSE (0.35934539076985417, 0.412558505056829) AUC (0.8565544841259949, 0.7380982429105336)\n",
      "Wall time: 11.8 s\n",
      "Iteration: 9 RMSE (0.36080917079239705, 0.39844331773368125) AUC (0.8564244224956705, 0.6960964178105123)\n"
     ]
    }
   ],
   "source": [
    "### YOUR CODE HERE (please, feel free to add extra cells to solve this task, after this first one) ###\n",
    "rmse_afm, auc_afm = [], []\n",
    "for iteration, (train_index, test_index) in enumerate(create_iterator(data)):\n",
    "    # Split data in training and test sets\n",
    "    X_train, X_test = X[train_index], X[test_index]\n",
    "    y_train, y_test = y[train_index], y[test_index]\n",
    "    # Initialize and fit the model\n",
    "    afm = CustomLogistic()\n",
    "    %time afm.fit(X_train, y_train)\n",
    "    # Make predictions \n",
    "    y_train_pred = afm.predict_proba(X_train)\n",
    "    y_test_pred = afm.predict_proba(X_test)\n",
    "    # Compute RMSE\n",
    "    train_rmse = metrics.mean_squared_error(y_train, y_train_pred, squared=False)\n",
    "    test_rmse = metrics.mean_squared_error(y_test, y_test_pred, squared=False)\n",
    "    rmse_afm.append(test_rmse)\n",
    "    # Compute AUC\n",
    "    train_auc = metrics.roc_auc_score(y_train, y_train_pred)\n",
    "    test_auc = metrics.roc_auc_score(y_test, y_test_pred)\n",
    "    auc_afm.append(test_auc)\n",
    "    # Print progress\n",
    "    print('Iteration:', iteration, 'RMSE', (train_rmse, test_rmse), 'AUC', (train_auc, test_auc))"
   ]
  },
  {
   "cell_type": "markdown",
   "metadata": {
    "id": "QDrP4-DYELqC"
   },
   "source": [
    "Finally, we show the mean and the standard deviation of the RMSE and AUC across folds. "
   ]
  },
  {
   "cell_type": "code",
   "execution_count": 16,
   "metadata": {
    "id": "AY3WSBmOELqC"
   },
   "outputs": [
    {
     "data": {
      "text/plain": [
       "('RMSE', 0.4206390456163904, 0.0170239025795021)"
      ]
     },
     "execution_count": 16,
     "metadata": {},
     "output_type": "execute_result"
    }
   ],
   "source": [
    "'RMSE', np.mean(rmse_afm), np.std(rmse_afm)"
   ]
  },
  {
   "cell_type": "code",
   "execution_count": 17,
   "metadata": {
    "id": "yIZFJdi5ELqC"
   },
   "outputs": [
    {
     "data": {
      "text/plain": [
       "('AUC', 0.6883590187571667, 0.040906170725414366)"
      ]
     },
     "execution_count": 17,
     "metadata": {},
     "output_type": "execute_result"
    }
   ],
   "source": [
    "'AUC', np.mean(auc_afm), np.std(auc_afm)"
   ]
  },
  {
   "cell_type": "markdown",
   "metadata": {
    "id": "OHZWugs_vKit"
   },
   "source": [
    "<a id=\"section1.4\"></a>\n",
    "### Task 1.4\n",
    "\n",
    "In this task, we ask you to evaluate a `PFA model` with all default parameters (e.g., no custom bounds, default l2 regularization, and fit_intercept=True) through a `10-fold user-stratified cross-validation`, computing the following performance metrics: `RMSE` and `AUC`. To do so, exactly as you should have done for the BKT and AFM models in Task 1.3 and 1.4, you should use the `create_iterator` function, defined in Task 1.2, to create the training and test set for each fold, starting from the interactions in `data`. \n",
    "\n",
    "No plotting is needed, it is enough to print the scores for each metric in the cell.\n",
    "\n",
    "The following cells include some utility functions that are needed to generate the `X` and `y` data in a format that is accepted by pyAFM model objects. To complete this task, you can build on top of the `X` and `y` created for you with the following cells. Please, refer to Tutorial 6 for further information on pyAFM. "
   ]
  },
  {
   "cell_type": "code",
   "execution_count": 18,
   "metadata": {
    "id": "Mp5Lnwi3vKit"
   },
   "outputs": [],
   "source": [
    "def read_as_success_failure(data):\n",
    "    n_succ, n_fail = [], []\n",
    "\n",
    "    # Create the n_succ and n_fail variables required by pyAFM\n",
    "    for i, row in data.iterrows():\n",
    "        n_succ.append({row['skill_name']: int(row['prior_success'])})\n",
    "        n_fail.append({row['skill_name']: int(row['prior_failure'])})\n",
    "        \n",
    "    return n_succ, n_fail"
   ]
  },
  {
   "cell_type": "code",
   "execution_count": 19,
   "metadata": {
    "id": "7nnZY6IIvKiu"
   },
   "outputs": [],
   "source": [
    "def prepare_data_pfa(skills, corrects, user_ids, n_succ, n_fail):\n",
    "    \n",
    "    s = feature_extraction.DictVectorizer()\n",
    "    q = feature_extraction.DictVectorizer()\n",
    "    succ = feature_extraction.DictVectorizer()\n",
    "    fail = feature_extraction.DictVectorizer()\n",
    "    S = s.fit_transform(user_ids)\n",
    "    Q = q.fit_transform(skills)\n",
    "    succ = succ.fit_transform(n_succ)\n",
    "    fail = fail.fit_transform(n_fail)\n",
    "    X = sc.sparse.hstack((S, Q, succ, fail))\n",
    "    y = np.array(corrects)\n",
    "\n",
    "    return (X.toarray(), y)"
   ]
  },
  {
   "cell_type": "markdown",
   "metadata": {
    "id": "CqDObHVuvKiu"
   },
   "source": [
    "Prepare the X and y arrays to be used to evaluate the PFA model. "
   ]
  },
  {
   "cell_type": "code",
   "execution_count": 20,
   "metadata": {
    "id": "0Ou_lrN-vKiu",
    "outputId": "c571f101-3ecd-445d-a5e8-04296046c84f"
   },
   "outputs": [
    {
     "name": "stdout",
     "output_type": "stream",
     "text": [
      "Wall time: 2.45 s\n",
      "Wall time: 202 ms\n"
     ]
    }
   ],
   "source": [
    "%time n_succ, n_fail = read_as_success_failure(data)\n",
    "%time X, y = prepare_data_pfa(skills, corrects, user_ids, n_succ, n_fail)"
   ]
  },
  {
   "cell_type": "code",
   "execution_count": 21,
   "metadata": {
    "id": "tetdb6JMvKiv",
    "outputId": "c084dccd-8fb3-40d7-ee02-a201d0024975"
   },
   "outputs": [
    {
     "name": "stdout",
     "output_type": "stream",
     "text": [
      "Wall time: 14.8 s\n",
      "Iteration: 0 RMSE (0.3592612212713895, 0.41275331953657246) AUC (0.8559670398622193, 0.7395491745249625)\n",
      "Wall time: 18 s\n",
      "Iteration: 1 RMSE (0.35885738244034426, 0.40379001344655385) AUC (0.8588426867798364, 0.7158009486936392)\n",
      "Wall time: 16.1 s\n",
      "Iteration: 2 RMSE (0.3607598183660183, 0.40249078543884526) AUC (0.8543376406280749, 0.7588350189847844)\n",
      "Wall time: 15.4 s\n",
      "Iteration: 3 RMSE (0.3597105765032166, 0.4269537850499162) AUC (0.8548760790495966, 0.6866375244866865)\n",
      "Wall time: 22.8 s\n",
      "Iteration: 4 RMSE (0.35764536305385825, 0.4241454765292951) AUC (0.856519188631309, 0.7512259604689446)\n",
      "Wall time: 16.6 s\n",
      "Iteration: 5 RMSE (0.362098709421017, 0.38602406435072795) AUC (0.8523760148856947, 0.778039312118549)\n",
      "Wall time: 19 s\n",
      "Iteration: 6 RMSE (0.35953901533416016, 0.4052646257412933) AUC (0.8551210748717755, 0.7672193517267152)\n",
      "Wall time: 14.7 s\n",
      "Iteration: 7 RMSE (0.3581739548411531, 0.4019915603509969) AUC (0.8595009440354477, 0.7540208189912775)\n",
      "Wall time: 17.3 s\n",
      "Iteration: 8 RMSE (0.3595624198884521, 0.4019961800046421) AUC (0.855078464451322, 0.7843115114157678)\n",
      "Wall time: 16.1 s\n",
      "Iteration: 9 RMSE (0.36104152124203504, 0.3871205028813061) AUC (0.8552466760104702, 0.7484679444258453)\n"
     ]
    }
   ],
   "source": [
    "### YOUR CODE HERE (please, feel free to add extra cells to solve this task, after this first one) ###\n",
    "rmse_pfa, auc_pfa = [], []\n",
    "for iteration, (train_index, test_index) in enumerate(create_iterator(data)):\n",
    "    # Split data in training and test sets\n",
    "    X_train, X_test = X[train_index], X[test_index]\n",
    "    y_train, y_test = y[train_index], y[test_index]\n",
    "    # Initialize and fit the model\n",
    "    pfa = CustomLogistic()\n",
    "    %time pfa.fit(X_train, y_train)\n",
    "    # Make predictions \n",
    "    y_train_pred = pfa.predict_proba(X_train)\n",
    "    y_test_pred = pfa.predict_proba(X_test)\n",
    "    # Compute RMSE\n",
    "    train_rmse = metrics.mean_squared_error(y_train, y_train_pred, squared=False)\n",
    "    test_rmse = metrics.mean_squared_error(y_test, y_test_pred, squared=False)\n",
    "    rmse_pfa.append(test_rmse)\n",
    "    # Compute AUC\n",
    "    train_auc = metrics.roc_auc_score(y_train, y_train_pred)\n",
    "    test_auc = metrics.roc_auc_score(y_test, y_test_pred)\n",
    "    auc_pfa.append(test_auc)\n",
    "    # Print progress\n",
    "    print('Iteration:', iteration, 'RMSE', (train_rmse, test_rmse), 'AUC', (train_auc, test_auc))"
   ]
  },
  {
   "cell_type": "markdown",
   "metadata": {
    "id": "foE2Em2zELqF"
   },
   "source": [
    "Finally, we show the mean and the standard deviation of the RMSE and AUC across folds. "
   ]
  },
  {
   "cell_type": "code",
   "execution_count": 22,
   "metadata": {
    "id": "o5p39OxZELqF",
    "outputId": "df5cbbf5-ab50-428c-ecbf-6ab9b0971cc9"
   },
   "outputs": [
    {
     "data": {
      "text/plain": [
       "('RMSE', 0.40525303133301493, 0.012702984340139625)"
      ]
     },
     "execution_count": 22,
     "metadata": {},
     "output_type": "execute_result"
    }
   ],
   "source": [
    "'RMSE', np.mean(rmse_pfa), np.std(rmse_pfa)"
   ]
  },
  {
   "cell_type": "code",
   "execution_count": 23,
   "metadata": {
    "id": "adr45sRhELqF",
    "outputId": "95a9c536-c762-44b1-8c91-2a3fee99c0e0"
   },
   "outputs": [
    {
     "data": {
      "text/plain": [
       "('AUC', 0.7484107565837173, 0.027615946214022805)"
      ]
     },
     "execution_count": 23,
     "metadata": {},
     "output_type": "execute_result"
    }
   ],
   "source": [
    "'AUC', np.mean(auc_pfa), np.std(auc_pfa)"
   ]
  },
  {
   "cell_type": "markdown",
   "metadata": {
    "id": "o91dKRW-vKiv"
   },
   "source": [
    "<a id=\"section1.5\"></a>\n",
    "### Task 1.5\n",
    "\n",
    "In this task, we ask you to visually report the RMSE and AUC scores achieved by the three student's models in the user-stratified 10-fold cross validation performed in Task 1.2, 1.3, and 1.4 respectively, in such a way that the models' performances can be easily and appropriately compared against each other. "
   ]
  },
  {
   "cell_type": "code",
   "execution_count": 24,
   "metadata": {
    "id": "i0Ro413avKiw",
    "outputId": "7f45aae0-09f8-4634-d2bd-b27798936f8c"
   },
   "outputs": [
    {
     "data": {
      "image/png": "[encoded data removed]",
      "text/plain": [
       "<Figure size 1080x360 with 2 Axes>"
      ]
     },
     "metadata": {
      "needs_background": "light"
     },
     "output_type": "display_data"
    }
   ],
   "source": [
    "### YOUR CODE HERE (please, feel free to add extra cells to solve this task, after this first one) ###\n",
    "\n",
    "m = {'AUC': {'BKT': auc_bkt, 'AFM': auc_afm, 'PFA': auc_pfa}, 'RMSE': {'BKT': rmse_bkt, 'AFM': rmse_afm, 'PFA': rmse_pfa}}\n",
    "limits = {'AUC': 1, 'RMSE': 0.5}\n",
    "\n",
    "plt.figure(figsize=(15, 5))\n",
    "\n",
    "for metric_idx, metric_key in enumerate(m.keys()):\n",
    "    \n",
    "    # Create the subplot for the current metric\n",
    "    plt.subplot(1, len(m), metric_idx + 1)\n",
    "\n",
    "    # Compute means, standard deviations, and labels\n",
    "    means, errors, labels = [], [], []\n",
    "    for model_key, model_scores in m[metric_key].items():\n",
    "        means.append(np.mean(model_scores))\n",
    "        errors.append(np.std(model_scores))\n",
    "        labels.append(model_key)\n",
    "    \n",
    "    # Plot values\n",
    "    x_pos = np.arange(len(labels))\n",
    "    plt.bar(x_pos, means, yerr=errors, align='center', alpha=0.5, ecolor='black', capsize=10)\n",
    "    \n",
    "    # Make decorations\n",
    "    plt.grid(axis='y')\n",
    "    plt.xticks(x_pos, labels)\n",
    "    plt.ylabel(metric_key)\n",
    "    plt.ylim(0, limits[metric_key])\n",
    "\n",
    "# Show the plot\n",
    "plt.tight_layout()\n",
    "plt.show()"
   ]
  },
  {
   "cell_type": "markdown",
   "metadata": {
    "id": "XMl_9cfCvKiw"
   },
   "source": [
    "### Task 1.6 Please compare and discuss the performance metric scores achieved by the student's models.\n",
    "\n",
    "From the left plot, it can be observed that the BKT model exhibited a higher AUC score (over 0.87) and a lower standard deviation of AUC score across folds (0.01) with respect to AFM and PFA models, indicating that the predictive power of the BKT model is higher and more stable across folds than the one of the other two models, when AUC is considered. Specifically, the average BKT AUC is 0.12-point higher (0.87 vs 0.75) the average PFA AUC and 0.18-point higher (0.87 vs 0.69) than the average AFM AUC. Comparing the latter two models between each other, PFA outperforms AFM in terms of average AUC (0.75 vs 0.69, 0.06-point higher), though the difference in AUC between PFA and AFM is smaller than the difference of both with BKT. Furthermore, PFA exhibited a smaller standard deviation across folds (0.027) with respect to AFM (0.04). It can be hence observed that including information on both prior success and failure (PFA) allows the model to perform better and have a more stable performance across folds, with respect to the case where only general information on the opportunities is considered (AFM).  \n",
    "\n",
    "Similarly, the right plot highlights that the BKT model performs better, on average, with respect to AFM and PFA in terms of RMSE, i.e., the RMSE score is lower for the BKT model (0.36). AFM and PFA were able to achieve an average RMSE score of 0.42 (0.06-point higher than BKT) and 0.405 (0.045-point higher than BKT) respectively, showing again how using more fine-grained information on the failure and success of a student can lead to better predictions, but not as much as BKT. The standard deviation in performance across folds is quite small for all three models. Specifically, while being already the top performer in terms of average RMSE, the BKT model exhibited also the lowest standard deviation (0.009). AFM and PFA showed slightly higher standard deviations (0.018 and 0.12), showing that their performance were less stable across folds for the former. In general, the lower the RMSE is, the lower the standard deviation of the model performance is too. This strengthen the good performance shown by BKT, especially.        \n",
    "\n",
    "Based on our results, we can generally observe that the characteristics and properties of the BKT model allow us to make better estimations of student’s skill mastery, compared to the two other considered models. One reason behind this finding might be that the skills at hand seem to meet well BKT assumptions, specifically that (i) knowledge can be divided into different skills, (ii) the definition of skills is accurate enough, (iii) each task corresponds to a single skill, and (iv) there is no connection between the skills (we should mention that there is no \"extensive\" connection, though for certain skills some interrelationships exist). For AFM and PFA ones, leveraging prior failure and success opportunities (PFA) and fed them into the model leads to good performance with respect to AFM, but not as much we can with BKT. One reason behind the performance differences across models (and a step for further improvement of all of them) might lie also on the fact that we considered only a basic BKT (no forgetting or other advanced modelling) and we have not tuned certain aspects (e.g., bounds and regularizations in PFA and AFM).  "
   ]
  },
  {
   "cell_type": "markdown",
   "metadata": {
    "id": "e8b79fvFvKix"
   },
   "source": [
    "<a id=\"section1\"></a>\n",
    "## 2  Knowledge Tracing: Learning Curves Comparison \n",
    "----\n",
    "\n",
    "In this section, you should fit a Bayesian Knowledge Tracing (BKT) model on the three skills included in the `data` data set, and compute the corresponding predictions. Then, for each skill included in the data dataframe, you should visually report and discuss (i) the learning curve and (ii) the bar plot representing the number of students who reached a given number of opportunities for that skill,  obtained with the BKT model fitted on the above-mentioned skills, in such a way that they can be easily and appropriately compared. No comparison with other baseline model is required.\n",
    "\n",
    "For your convenience, you will be guided in completing this section through three main tasks:\n",
    "- Task 2.1: BKT fit and prediction. \n",
    "- Task 2.2: Learning curves and bar plots generation.\n",
    "- Task 2.3: Learning curves and bar plots discussion. "
   ]
  },
  {
   "cell_type": "markdown",
   "metadata": {
    "id": "4AjCAtH1vKix"
   },
   "source": [
    "<a id=\"section2.1\"></a>\n",
    "### Task 2.1\n",
    "\n",
    "In this task, we ask you to fit a BKT model with all default parameters, i.e., `Model(seed=0)` in pyBKT, on the full `data` data set (no split into train and test set needed as we are not assessing predictive performance of the model here). Once you BKT model is fitted, we ask you to create a dataframe named `predictions` with four columns `user_id`, `skill_name`, `y_true`, `y_pred_bkt`. This dataframe should include one row per interaction in `data`, where user_id is the id of the student associated with that interaction, skill_name is the name of the skill involved in that interaction, y_true is the student's performance on that interaction (1 if correct at the first attempt, 0 otherwise), and y_pred_bkt is the prediction made by the pre-trained BKT model for that interaction.  \n",
    "\n",
    "Please, note that this task may require a long running time (e.g., about 10 to 20 minutes), depending on your implementation. Just as an indication, on a Dell XPS 13, the fit process lasts around 7 minutes.  "
   ]
  },
  {
   "cell_type": "code",
   "execution_count": 25,
   "metadata": {
    "id": "1A6BtleZvKix",
    "outputId": "a69b531e-f233-492a-e4ed-fe6f656957a9"
   },
   "outputs": [
    {
     "name": "stdout",
     "output_type": "stream",
     "text": [
      "Wall time: 6min 40s\n"
     ]
    }
   ],
   "source": [
    "### YOUR CODE HERE (please, feel free to add extra cells to solve this task, after this first one) ###\n",
    "\n",
    "# Initialize the model\n",
    "model = Model(seed=0)\n",
    "\n",
    "# Fit the model on the entire dataset\n",
    "%time model.fit(data=data)"
   ]
  },
  {
   "cell_type": "code",
   "execution_count": 26,
   "metadata": {
    "id": "eewAd9zCvKiy"
   },
   "outputs": [],
   "source": [
    "# Make predictions\n",
    "predictions = model.predict(data=data)[['user_id', 'skill_name', 'correct', 'correct_predictions']]\n",
    "\n",
    "# Rename the dataframe columns as per instructions\n",
    "predictions.columns = ['user_id', 'skill_name', 'y_true', 'y_pred_bkt']"
   ]
  },
  {
   "cell_type": "markdown",
   "metadata": {
    "id": "lH_EEpfvvKiy"
   },
   "source": [
    "As a double check, we show the first ten rows of the predictions dataframe."
   ]
  },
  {
   "cell_type": "code",
   "execution_count": 27,
   "metadata": {
    "id": "3ogEC9olELqH",
    "outputId": "f5a4981c-28e0-4883-9260-8dad40255fe8"
   },
   "outputs": [
    {
     "data": {
      "text/html": [
       "<div>\n",
       "<style scoped>\n",
       "    .dataframe tbody tr th:only-of-type {\n",
       "        vertical-align: middle;\n",
       "    }\n",
       "\n",
       "    .dataframe tbody tr th {\n",
       "        vertical-align: top;\n",
       "    }\n",
       "\n",
       "    .dataframe thead th {\n",
       "        text-align: right;\n",
       "    }\n",
       "</style>\n",
       "<table border=\"1\" class=\"dataframe\">\n",
       "  <thead>\n",
       "    <tr style=\"text-align: right;\">\n",
       "      <th></th>\n",
       "      <th>user_id</th>\n",
       "      <th>skill_name</th>\n",
       "      <th>y_true</th>\n",
       "      <th>y_pred_bkt</th>\n",
       "    </tr>\n",
       "  </thead>\n",
       "  <tbody>\n",
       "    <tr>\n",
       "      <th>0</th>\n",
       "      <td>14</td>\n",
       "      <td>Circle Graph</td>\n",
       "      <td>0</td>\n",
       "      <td>0.46431</td>\n",
       "    </tr>\n",
       "    <tr>\n",
       "      <th>1</th>\n",
       "      <td>14</td>\n",
       "      <td>Circle Graph</td>\n",
       "      <td>1</td>\n",
       "      <td>0.33660</td>\n",
       "    </tr>\n",
       "    <tr>\n",
       "      <th>2</th>\n",
       "      <td>14</td>\n",
       "      <td>Circle Graph</td>\n",
       "      <td>0</td>\n",
       "      <td>0.56816</td>\n",
       "    </tr>\n",
       "    <tr>\n",
       "      <th>3</th>\n",
       "      <td>14</td>\n",
       "      <td>Circle Graph</td>\n",
       "      <td>0</td>\n",
       "      <td>0.44325</td>\n",
       "    </tr>\n",
       "    <tr>\n",
       "      <th>4</th>\n",
       "      <td>14</td>\n",
       "      <td>Circle Graph</td>\n",
       "      <td>0</td>\n",
       "      <td>0.31982</td>\n",
       "    </tr>\n",
       "  </tbody>\n",
       "</table>\n",
       "</div>"
      ],
      "text/plain": [
       "   user_id    skill_name  y_true  y_pred_bkt\n",
       "0       14  Circle Graph       0     0.46431\n",
       "1       14  Circle Graph       1     0.33660\n",
       "2       14  Circle Graph       0     0.56816\n",
       "3       14  Circle Graph       0     0.44325\n",
       "4       14  Circle Graph       0     0.31982"
      ]
     },
     "execution_count": 27,
     "metadata": {},
     "output_type": "execute_result"
    }
   ],
   "source": [
    "predictions.head()"
   ]
  },
  {
   "cell_type": "markdown",
   "metadata": {
    "id": "XiqsymkBvKiy"
   },
   "source": [
    "<a id=\"section2.4\"></a>\n",
    "### Task 2.2\n",
    "\n",
    "In this task, for each skill, we ask you to visually report and discuss (i) the `learning curve` and (ii) the `bar plot` representing the number of students who reached a given number of opportunities (similar to the visualizations done in Tutorial 6),  obtained by the BKT model fitted on that skill, in such a way that they can be easily and appropriately compared. To do so, we ask you to use the predictions you stored in the dataframe `predictions`.    \n",
    "\n",
    "No comparison with other baseline model is required.\n",
    "\n",
    "Please, refer to Tutorial 6 for further information on learning curve and bar plotting for student's knowledge tracing models."
   ]
  },
  {
   "cell_type": "code",
   "execution_count": 28,
   "metadata": {
    "id": "0hQVhP85vKiz"
   },
   "outputs": [],
   "source": [
    "### YOUR CODE HERE (please, feel free to add extra cells to solve this task, after this first one) ###\n",
    "def avg_y_by_x(x, y):\n",
    "    # Transform lists into arrays\n",
    "    x = np.array(x)\n",
    "    y = np.array(y)\n",
    "\n",
    "    # Sort the integer id representing the number of opportunities in increasing order\n",
    "    xs = sorted(list(set(x)))\n",
    "\n",
    "    # Supporting lists to store the:\n",
    "    # - xv: integer identifier of the number of opportunities\n",
    "    # - yv: average value across students at that number of opportunities\n",
    "    # - lcb and ucb: lower and upper confidence bound\n",
    "    # - n_obs: number of observartions present at that number of opportunities (on per-skill plots, it is the #students)\n",
    "    xv, yv, lcb, ucb, n_obs = [], [], [], [], []\n",
    "\n",
    "    # For each integer identifier of the number of opportunities 0, ...\n",
    "    for v in xs:\n",
    "        ys = [y[i] for i, e in enumerate(x) if e == v] # We retrieve the values for that integer identifier\n",
    "        if len(ys) > 0: \n",
    "            xv.append(v) # Append the integer identifier of the number of opportunities\n",
    "            yv.append(sum(ys) / len(ys)) # Append the average value across students at that number of opportunities\n",
    "            n_obs.append(len(ys)) # Append the number of observartions present at that number of opportunities\n",
    "\n",
    "            \n",
    "            # Prepare data for confidence interval computation\n",
    "            unique, counts = np.unique(ys, return_counts=True)\n",
    "            counts = dict(zip(unique, counts))\n",
    "\n",
    "            if 0 not in counts:\n",
    "                counts[0] = 0\n",
    "            if 1 not in counts:\n",
    "                counts[1] = 0\n",
    "\n",
    "            # Calculate the 95% confidence intervals\n",
    "            ci = sc.stats.beta.interval(0.95, 0.5 + counts[0], 0.5 + counts[1])\n",
    "            lcb.append(ci[0])\n",
    "            ucb.append(ci[1])\n",
    "\n",
    "    return xv, yv, lcb, ucb, n_obs"
   ]
  },
  {
   "cell_type": "code",
   "execution_count": 29,
   "metadata": {
    "id": "2KFzf-4bvKiz",
    "outputId": "9c962f59-4572-46e1-c703-c3fbf644bae1"
   },
   "outputs": [
    {
     "data": {
      "image/png": "[encoded data removed]",
      "text/plain": [
       "<Figure size 432x288 with 2 Axes>"
      ]
     },
     "metadata": {
      "needs_background": "light"
     },
     "output_type": "display_data"
    },
    {
     "data": {
      "image/png": "[encoded data removed]",
      "text/plain": [
       "<Figure size 432x288 with 2 Axes>"
      ]
     },
     "metadata": {
      "needs_background": "light"
     },
     "output_type": "display_data"
    },
    {
     "data": {
      "image/png": "[encoded data removed]",
      "text/plain": [
       "<Figure size 432x288 with 2 Axes>"
      ]
     },
     "metadata": {
      "needs_background": "light"
     },
     "output_type": "display_data"
    }
   ],
   "source": [
    "### YOUR CODE HERE (please, feel free to add extra cells to solve this task, after this first one) ###\n",
    "\n",
    "for plot_id, skill_name in enumerate(data['skill_name'].unique()): # For each skill under consideration\n",
    "    \n",
    "    preds = predictions[predictions['skill_name'] == skill_name] # Retrieve predictions for the current skill\n",
    "\n",
    "    xp = []\n",
    "    yp = {}\n",
    "    for col in preds.columns: # For y_true and and y_pred_bkt columns, initialize an empty list for curve values\n",
    "        if 'y_' in col:\n",
    "            yp[col] = []\n",
    "\n",
    "    for user_id in preds['user_id'].unique(): # For each user\n",
    "        user_preds = preds[preds['user_id'] == user_id] # Retrieve the predictions on the current skill for this user \n",
    "        xp += list(np.arange(len(user_preds))) # The x-axis values go from 0 to |n_opportunities|-1\n",
    "        for col in preds.columns: \n",
    "            if 'y_' in col: # For y_true and and y_pred_bkt columns\n",
    "                yp[col] += user_preds[col].tolist() # The y-axis value is the success rate for this user at that opportunity\n",
    "\n",
    "    fig, axs = plt.subplots(2, 1, gridspec_kw={'height_ratios': [3, 2]}) # Initialize the plotting figure\n",
    "\n",
    "    lines = []\n",
    "    for col in preds.columns:\n",
    "        if 'y_' in col: # For y_true and and y_pred_bkt columns   \n",
    "            x, y, lcb, ucb, n_obs = avg_y_by_x(xp, yp[col]) # Calculate mean and 95% confidence intervals for success rate \n",
    "            y = [1-v for v in y] # Transform success rate in error rate\n",
    "            if col == 'y_true': # In case of ground-truth data, we also show the confidence intervals\n",
    "                axs[0].fill_between(x, lcb, ucb, alpha=.1)\n",
    "            model_line, = axs[0].plot(x, y, label=col) # Plot the curve\n",
    "            lines.append(model_line) # Store the line to then set the legend    \n",
    "\n",
    "    # Make decorations for the learning curve plot\n",
    "    axs[0].set_title(skill_name)\n",
    "    axs[0].legend(handles=lines)\n",
    "    axs[0].set_ylabel('Error')\n",
    "    axs[0].set_ylim(0, 1)\n",
    "    axs[0].set_xlim(0, None)\n",
    "\n",
    "    # Plot the number of observations per number of opportunities bars and make decorations\n",
    "    axs[1].set_xlabel('#Opportunities')\n",
    "    axs[1].bar([i for i in range(len(n_obs))], n_obs)\n",
    "    axs[1].set_ylabel('#Observations')\n",
    "    axs[1].set_ylim(0, 750)\n",
    "    axs[1].set_xlim(0, None)\n",
    "\n",
    "    # Plot the learning curve and the bar plot \n",
    "    plt.show()"
   ]
  },
  {
   "cell_type": "markdown",
   "metadata": {
    "id": "Qr0RUHiqvKi0"
   },
   "source": [
    "### Task 2.3 Please discuss all visualizations (learning curves and bar plots) obtained with the BKT model. \n",
    "\n",
    "First, we discuss each skill separately. Then, given that we are showing the same aspects for the three skills, we provide few more observations aimed at comparing the findings we obtained across the skills under consideration. \n",
    "\n",
    "- \"**Circle Graph**\". From the error rate in the ground-truth data (y_true, blue), it can be observed that this skill appears quite hard for students, with an initial error rate of around 0.60 in the first opportunity. The error rate goes slightly down, as we would usually expect, as much as the students play with the skill, reaching the lowest error rate of 0.38 at around 7 opportunities. However, starting from #opportunities around equal to 7, the error rate starts going up till 0.80 after 50 opportunities. It seems that a large part of the students managed to master a bit this skill in the first opportunities, but then they start facing difficulties in mastering it. This behavior might be due to the fact that the skill is ill-defined or that the problems become too difficult or are not aligned well with the skill.  After 50 opportunities, the error rate starts jumping between 0 and a 1 just because there are only few students. In terms of confidence interval (blue area), it can be observed that the error rate is quite stable at the earlier stage. Starting from around 7 opportunities, the error rate is less stable probably due to the same reasons we provided above. The confidence interval finally becomes large when only few students keep playing with this skill for a higher number of opportunities. When it comes to consider the error rate obtained by the BKT model estimations (y_pred_bkt, orange), it can be observed that the model tends to overestimate a bit the error rate during the first opportunities (the orange line is above the blue one, the model tends to predict more errors than expected), while the opposite pattern is observed for higher numbers of opportunities (the model tends to predict less errors than expected). However, in general, the model fits well the ground-truth data. Looking at the bar plot at the bottom, students appear reasonably engaged with this skill only for few opportunities (particularly, starting from 35 opportunities, the number of involved students is low, and the error rate starts jumping more).            \n",
    "\n",
    "- \"**Mode**\". Based on the patterns of the ground-truth data (y_true, blue), the error rate observed for this skill at the earlier stages is of around 0.20. The students thus are already good in problems involving this skill, somehow. While this might depend on the intrinsic knowledge/background of the students about this skill, this behavior might also appear due to the fact that the skill is easier and easier to master in general or that the problems presented to the students on that skill are too easy, for instance. While the error rate goes slightly down when the number of opportunities increases, the difference between the initial error rate and the error rate experienced (for instance) after 5 or 6 opportunities is relatively small (around 0.10 of error rate in the latter case). This observation might be justified by the fact that students played with the skill only for few opportunities (so there is no so much room for improving more) and by the already low initial error rate (students might use those opportunities just to refine their knowledge, with few errors still happening). The going-up behavior at the end appears mainly due to the very low number of students involved at that point. The blue area shows us that the confidence interval is very small for the first three or four opportunities (so behavior is more consistent among students), while it starts increasing later probably also due to the peculiar patterns behind students who interact more with this skill. The BKT model (y_pred_bkt, orange) is able to fit the ground-truth data very well across the number of opportunities, especially till around 8 opportunities. One important observation comes from the bar plot, which shows that the number of students involved in this skill drastically goes down especially after three/four opportunities.     \n",
    "\n",
    "- \"**Venn Diagram**\". This third skill appears like another somehow easy skill since the beginning (y_true, blue), but a bit more harder than \"Mode\". Except for a few fluctuations in the very first opportunities (where the curve slightly increases, maybe because they are just the first opportunities or due to the type/difficulty of problems proposed at that point), the error rate goes down till around 0.08, reached at around 100 opportunities. Probably, once only those students struggling more with this skill tend to stay for a higher number of opportunities, the error rate goes up again. The confidence interval for the ground-truth data (blue area) is relatively high (if compared with the one observed for the other two skills during the first opportunities). Naturally, it increases even more when the number of students reaching that number of opportunities is very low (#opportunities > 130). Comparing the ground-truth estimations with the BKT estimations (y_pred_bkt, orange), except for the first opportunities, it can be observed that BKT tends to consistently underestimate the error rate and the BKT error rate is often outside the confidence interval of actual data. The number of students per opportunity naturally goes down as observed for the other skills, but interestingly it can be observed that a set of students seems to still keep playing with this skill from around 30 opportunites till 100 opportunities stably (the bar plot values appear somehow similar in that range).  \n",
    "\n",
    "Overall, comparing the considered three skills, \"Circle Graph\" seems to be really going up (e.g., ill-defined skill or due to the type/difficulty of problems), while, for \"Mode\" and \"Venn Diagram\", the going up later seems to come only from the very low number of students. Especially but not only for the \"Venn Diagram\" skill, the BKT generally tends to under-estimate the error rate. One reason behind this observation could be that the BKT model we adopted did not consider forgetting, for instance. In terms of number of opportunities, students experienced a lower maximum number of opportunities on the \"Mode\" skill, compared to the others. Compared to \"Circle Graph\", the skill \"Venn Diagram\" seems to involve lots of students even for higher number of opportunities (e.g., #opportunities > 30).   "
   ]
  }
 ],
 "metadata": {
  "colab": {
   "collapsed_sections": [],
   "name": "Homework05_KnowledgeTracing-Example-Solution.ipynb",
   "provenance": []
  },
  "kernelspec": {
   "display_name": "Python 3",
   "language": "python",
   "name": "python3"
  },
  "language_info": {
   "codemirror_mode": {
    "name": "ipython",
    "version": 3
   },
   "file_extension": ".py",
   "mimetype": "text/x-python",
   "name": "python",
   "nbconvert_exporter": "python",
   "pygments_lexer": "ipython3",
   "version": "3.9.16"
  }
 },
 "nbformat": 4,
 "nbformat_minor": 1
}
