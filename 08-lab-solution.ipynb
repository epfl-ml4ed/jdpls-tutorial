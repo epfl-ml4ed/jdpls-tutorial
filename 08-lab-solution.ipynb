{
 "cells": [
  {
   "attachments": {},
   "cell_type": "markdown",
   "id": "b8135284-1238-480e-89d8-5790b142ea66",
   "metadata": {},
   "source": [
    "# Lab 8 Solution - DKT Model Comparison"
   ]
  },
  {
   "cell_type": "markdown",
   "id": "494fe36e-c815-4bae-88b4-6c784e829d1d",
   "metadata": {},
   "source": [
    "In this exercises, you will compare the performance of different knowledge tracing models. We will use the same ASSISTments data set as for lecture 7.\n",
    "\n",
    "The ASSISTments data sets are often used for benchmarking knowledge tracing models. We will play with a simplified data set that contains the following columns:\n",
    "\n",
    "| Name                   | Description                         |\n",
    "| ---------------------- | ------------------------------------------------------------ |\n",
    "| user_id | The ID of the student who is solving the problem.  | |\n",
    "| order_id | The temporal ID (timestamp) associated with the student's answer to the problem.  | |\n",
    "| skill_name | The name of the skill associated with the problem. | |\n",
    "| correct | The student's performance on the problem: 1 if the problem's answer is correct at the first attempt, 0 otherwise. "
   ]
  },
  {
   "cell_type": "markdown",
   "id": "58c44a0e-7786-44cc-8b7a-12f0cd707d07",
   "metadata": {},
   "source": [
    "Note that this notebook will need to use the tensorflow kernel. Change the kernel in the upper right corner of Noto. Select `tensorflow`."
   ]
  },
  {
   "cell_type": "markdown",
   "id": "f8f92b49-a6b7-481e-abe3-8bd1d929965f",
   "metadata": {},
   "source": [
    "We first load the data set."
   ]
  },
  {
   "cell_type": "code",
   "execution_count": 3,
   "id": "6cb3cc5d-dfdc-4214-b01c-0f9b8dfa77a7",
   "metadata": {},
   "outputs": [],
   "source": [
    "# Principal package imports\n",
    "import matplotlib.pyplot as plt\n",
    "import seaborn as sns\n",
    "import pandas as pd\n",
    "import numpy as np\n",
    "import scipy as sc\n",
    "\n",
    "# Scikit-learn package imports\n",
    "from sklearn import feature_extraction, model_selection\n",
    "from sklearn.metrics import mean_squared_error, roc_auc_score\n",
    "\n",
    "# PyBKT package imports\n",
    "from pyBKT.models import Model\n",
    "# Import the lmm model class\n",
    "from pymer4.models import Lmer\n",
    "\n",
    "# Tensorflow\n",
    "import tensorflow as tf\n",
    "\n",
    "DATA_DIR = \"./../../data/\""
   ]
  },
  {
   "cell_type": "code",
   "execution_count": 4,
   "id": "f0e03b6b-462f-4770-af1c-c0b4fd00f565",
   "metadata": {},
   "outputs": [
    {
     "data": {
      "text/html": [
       "<div>\n",
       "<style scoped>\n",
       "    .dataframe tbody tr th:only-of-type {\n",
       "        vertical-align: middle;\n",
       "    }\n",
       "\n",
       "    .dataframe tbody tr th {\n",
       "        vertical-align: top;\n",
       "    }\n",
       "\n",
       "    .dataframe thead th {\n",
       "        text-align: right;\n",
       "    }\n",
       "</style>\n",
       "<table border=\"1\" class=\"dataframe\">\n",
       "  <thead>\n",
       "    <tr style=\"text-align: right;\">\n",
       "      <th></th>\n",
       "      <th>user_id</th>\n",
       "      <th>order_id</th>\n",
       "      <th>skill_name</th>\n",
       "      <th>correct</th>\n",
       "    </tr>\n",
       "  </thead>\n",
       "  <tbody>\n",
       "    <tr>\n",
       "      <th>0</th>\n",
       "      <td>64525</td>\n",
       "      <td>33022537</td>\n",
       "      <td>Box and Whisker</td>\n",
       "      <td>1</td>\n",
       "    </tr>\n",
       "    <tr>\n",
       "      <th>1</th>\n",
       "      <td>64525</td>\n",
       "      <td>33022709</td>\n",
       "      <td>Box and Whisker</td>\n",
       "      <td>1</td>\n",
       "    </tr>\n",
       "    <tr>\n",
       "      <th>2</th>\n",
       "      <td>70363</td>\n",
       "      <td>35450204</td>\n",
       "      <td>Box and Whisker</td>\n",
       "      <td>0</td>\n",
       "    </tr>\n",
       "    <tr>\n",
       "      <th>3</th>\n",
       "      <td>70363</td>\n",
       "      <td>35450295</td>\n",
       "      <td>Box and Whisker</td>\n",
       "      <td>1</td>\n",
       "    </tr>\n",
       "    <tr>\n",
       "      <th>4</th>\n",
       "      <td>70363</td>\n",
       "      <td>35450311</td>\n",
       "      <td>Box and Whisker</td>\n",
       "      <td>0</td>\n",
       "    </tr>\n",
       "  </tbody>\n",
       "</table>\n",
       "</div>"
      ],
      "text/plain": [
       "   user_id  order_id       skill_name  correct\n",
       "0    64525  33022537  Box and Whisker        1\n",
       "1    64525  33022709  Box and Whisker        1\n",
       "2    70363  35450204  Box and Whisker        0\n",
       "3    70363  35450295  Box and Whisker        1\n",
       "4    70363  35450311  Box and Whisker        0"
      ]
     },
     "execution_count": 4,
     "metadata": {},
     "output_type": "execute_result"
    }
   ],
   "source": [
    "assistments = pd.read_csv(DATA_DIR + 'assistments.csv', low_memory=False).dropna()\n",
    "assistments.head()"
   ]
  },
  {
   "cell_type": "markdown",
   "id": "462477a1-47f4-4610-b41e-569cf320903f",
   "metadata": {},
   "source": [
    "Next, we print the number of unique students and skills in this data set."
   ]
  },
  {
   "cell_type": "code",
   "execution_count": 5,
   "id": "6d8bfc64-ddd6-48b7-9a05-5a5453e5f17b",
   "metadata": {},
   "outputs": [
    {
     "name": "stdout",
     "output_type": "stream",
     "text": [
      "Number of unique students in the dataset: 4151\n",
      "Number of unique skills in the dataset: 110\n"
     ]
    }
   ],
   "source": [
    "print(\"Number of unique students in the dataset:\", len(set(assistments['user_id'])))\n",
    "print(\"Number of unique skills in the dataset:\", len(set(assistments['skill_name'])))"
   ]
  },
  {
   "cell_type": "markdown",
   "id": "d3b13c9b-53d6-4a23-9496-5d41798d1dc7",
   "metadata": {},
   "source": [
    "We also implement a utility function that splits the data in two folds, making sure that all interactions of a student land in the same fold. We will use this function later when comparing predictive performance of the different models."
   ]
  },
  {
   "cell_type": "code",
   "execution_count": 12,
   "id": "d7ea098b-23ab-467f-981d-80b28f97dd99",
   "metadata": {},
   "outputs": [],
   "source": [
    "def create_iterator(data):\n",
    "    '''\n",
    "    Create an iterator to split interactions in data into train and test, with the same student not appearing in two diverse folds.\n",
    "    :param data:        Dataframe with student's interactions.\n",
    "    :return:            An iterator.\n",
    "    '''    \n",
    "    # Both passing a matrix with the raw data or just an array of indexes works\n",
    "    X = np.arange(len(data.index)) \n",
    "    # Groups of interactions are identified by the user id (we do not want the same user appearing in two folds)\n",
    "    groups = data['user_id'].values \n",
    "    return model_selection.GroupShuffleSplit(n_splits=1, train_size=.8, test_size=0.2, random_state=0).split(X, groups=groups)"
   ]
  },
  {
   "cell_type": "markdown",
   "id": "8ab12fe9-9103-4b4a-8ef5-7357934a1424",
   "metadata": {
    "tags": []
   },
   "source": [
    "## Additive Factors Model (AFM) and Performance Factors Analysis (PFA)"
   ]
  },
  {
   "cell_type": "markdown",
   "id": "81af1c7d-fc01-4e5f-b664-e405ed8efb46",
   "metadata": {},
   "source": [
    "The AFM and PFA models are both based on logistic regression and item response theory (IRT). Specifically, they compute the probability that a student will solve a task correctly based on the number of previous attempts the student had at the corresponding skill (in case of AFM) and based on the correct and wrong attempts at the corresponding skill (in case of PFA), respectively. We therefore first preprocess the data to compute these variables. For demonstration purposes, we will continue on the small subset of the data set containing six skills."
   ]
  },
  {
   "cell_type": "code",
   "execution_count": 13,
   "id": "586a6f70-a30f-41fa-933a-0ed3857871c2",
   "metadata": {},
   "outputs": [
    {
     "name": "stdout",
     "output_type": "stream",
     "text": [
      "Skill set: {'Finding Percents', 'Venn Diagram', 'Area Rectangle', 'Mode', 'Circle Graph', 'Division Fractions'}\n",
      "Number of unique students in the subset: 1527\n",
      "Number of unique skills in the subset: 6\n"
     ]
    }
   ],
   "source": [
    "skills_subset = ['Circle Graph', 'Venn Diagram', 'Mode', 'Division Fractions', 'Finding Percents', 'Area Rectangle']\n",
    "data = assistments[assistments['skill_name'].isin(skills_subset)]\n",
    "\n",
    "print(\"Skill set:\", set(data['skill_name']))\n",
    "print(\"Number of unique students in the subset:\", len(set(data['user_id'])))\n",
    "print(\"Number of unique skills in the subset:\", len(set(data['skill_name'])))"
   ]
  },
  {
   "cell_type": "code",
   "execution_count": 14,
   "id": "cd11326d-df70-4b65-ad9f-8a6cbd33c758",
   "metadata": {},
   "outputs": [
    {
     "name": "stderr",
     "output_type": "stream",
     "text": [
      "/tmp/ipykernel_857/3193894825.py:4: SettingWithCopyWarning: \n",
      "A value is trying to be set on a copy of a slice from a DataFrame.\n",
      "Try using .loc[row_indexer,col_indexer] = value instead\n",
      "\n",
      "See the caveats in the documentation: https://pandas.pydata.org/pandas-docs/stable/user_guide/indexing.html#returning-a-view-versus-a-copy\n",
      "  data.loc[:, 'aux'] = 1\n",
      "/tmp/ipykernel_857/3193894825.py:5: SettingWithCopyWarning: \n",
      "A value is trying to be set on a copy of a slice from a DataFrame.\n",
      "Try using .loc[row_indexer,col_indexer] = value instead\n",
      "\n",
      "See the caveats in the documentation: https://pandas.pydata.org/pandas-docs/stable/user_guide/indexing.html#returning-a-view-versus-a-copy\n",
      "  data.loc[:, 'prev_attempts'] = data.sort_values('order_id').groupby(['user_id', 'skill_name'])['aux'].cumsum() -1\n",
      "/tmp/ipykernel_857/3193894825.py:8: SettingWithCopyWarning: \n",
      "A value is trying to be set on a copy of a slice from a DataFrame.\n",
      "Try using .loc[row_indexer,col_indexer] = value instead\n",
      "\n",
      "See the caveats in the documentation: https://pandas.pydata.org/pandas-docs/stable/user_guide/indexing.html#returning-a-view-versus-a-copy\n",
      "  data.loc[:, 'correct_aux'] = data.sort_values('order_id').groupby(['user_id', 'skill_name'])['correct'].cumsum()\n",
      "/tmp/ipykernel_857/3193894825.py:9: SettingWithCopyWarning: \n",
      "A value is trying to be set on a copy of a slice from a DataFrame.\n",
      "Try using .loc[row_indexer,col_indexer] = value instead\n",
      "\n",
      "See the caveats in the documentation: https://pandas.pydata.org/pandas-docs/stable/user_guide/indexing.html#returning-a-view-versus-a-copy\n",
      "  data.loc[:, 'before_correct_num'] = data.sort_values('order_id').groupby(['user_id', 'skill_name'])['correct_aux'].shift(periods=1, fill_value=0)\n",
      "/tmp/ipykernel_857/3193894825.py:10: SettingWithCopyWarning: \n",
      "A value is trying to be set on a copy of a slice from a DataFrame.\n",
      "Try using .loc[row_indexer,col_indexer] = value instead\n",
      "\n",
      "See the caveats in the documentation: https://pandas.pydata.org/pandas-docs/stable/user_guide/indexing.html#returning-a-view-versus-a-copy\n",
      "  data.loc[:, 'before_wrong_num'] = data['prev_attempts'] - data['before_correct_num']\n"
     ]
    },
    {
     "data": {
      "text/html": [
       "<div>\n",
       "<style scoped>\n",
       "    .dataframe tbody tr th:only-of-type {\n",
       "        vertical-align: middle;\n",
       "    }\n",
       "\n",
       "    .dataframe tbody tr th {\n",
       "        vertical-align: top;\n",
       "    }\n",
       "\n",
       "    .dataframe thead th {\n",
       "        text-align: right;\n",
       "    }\n",
       "</style>\n",
       "<table border=\"1\" class=\"dataframe\">\n",
       "  <thead>\n",
       "    <tr style=\"text-align: right;\">\n",
       "      <th></th>\n",
       "      <th>user_id</th>\n",
       "      <th>order_id</th>\n",
       "      <th>skill_name</th>\n",
       "      <th>correct</th>\n",
       "      <th>aux</th>\n",
       "      <th>prev_attempts</th>\n",
       "      <th>correct_aux</th>\n",
       "      <th>before_correct_num</th>\n",
       "      <th>before_wrong_num</th>\n",
       "    </tr>\n",
       "  </thead>\n",
       "  <tbody>\n",
       "    <tr>\n",
       "      <th>3957</th>\n",
       "      <td>14</td>\n",
       "      <td>21617623</td>\n",
       "      <td>Circle Graph</td>\n",
       "      <td>0</td>\n",
       "      <td>1</td>\n",
       "      <td>0</td>\n",
       "      <td>0</td>\n",
       "      <td>0</td>\n",
       "      <td>0</td>\n",
       "    </tr>\n",
       "    <tr>\n",
       "      <th>3958</th>\n",
       "      <td>14</td>\n",
       "      <td>21617632</td>\n",
       "      <td>Circle Graph</td>\n",
       "      <td>1</td>\n",
       "      <td>1</td>\n",
       "      <td>1</td>\n",
       "      <td>1</td>\n",
       "      <td>0</td>\n",
       "      <td>1</td>\n",
       "    </tr>\n",
       "    <tr>\n",
       "      <th>3959</th>\n",
       "      <td>14</td>\n",
       "      <td>21617641</td>\n",
       "      <td>Circle Graph</td>\n",
       "      <td>0</td>\n",
       "      <td>1</td>\n",
       "      <td>2</td>\n",
       "      <td>1</td>\n",
       "      <td>1</td>\n",
       "      <td>1</td>\n",
       "    </tr>\n",
       "    <tr>\n",
       "      <th>3960</th>\n",
       "      <td>14</td>\n",
       "      <td>21617650</td>\n",
       "      <td>Circle Graph</td>\n",
       "      <td>0</td>\n",
       "      <td>1</td>\n",
       "      <td>3</td>\n",
       "      <td>1</td>\n",
       "      <td>1</td>\n",
       "      <td>2</td>\n",
       "    </tr>\n",
       "    <tr>\n",
       "      <th>3961</th>\n",
       "      <td>14</td>\n",
       "      <td>21617659</td>\n",
       "      <td>Circle Graph</td>\n",
       "      <td>0</td>\n",
       "      <td>1</td>\n",
       "      <td>4</td>\n",
       "      <td>1</td>\n",
       "      <td>1</td>\n",
       "      <td>3</td>\n",
       "    </tr>\n",
       "  </tbody>\n",
       "</table>\n",
       "</div>"
      ],
      "text/plain": [
       "      user_id  order_id    skill_name  correct  aux  prev_attempts  \\\n",
       "3957       14  21617623  Circle Graph        0    1              0   \n",
       "3958       14  21617632  Circle Graph        1    1              1   \n",
       "3959       14  21617641  Circle Graph        0    1              2   \n",
       "3960       14  21617650  Circle Graph        0    1              3   \n",
       "3961       14  21617659  Circle Graph        0    1              4   \n",
       "\n",
       "      correct_aux  before_correct_num  before_wrong_num  \n",
       "3957            0                   0                 0  \n",
       "3958            1                   0                 1  \n",
       "3959            1                   1                 1  \n",
       "3960            1                   1                 2  \n",
       "3961            1                   1                 3  "
      ]
     },
     "execution_count": 14,
     "metadata": {},
     "output_type": "execute_result"
    }
   ],
   "source": [
    "# Data processing\n",
    "# Number of attempts before current\n",
    "def preprocess_data(data):\n",
    "    data.loc[:, 'aux'] = 1\n",
    "    data.loc[:, 'prev_attempts'] = data.sort_values('order_id').groupby(['user_id', 'skill_name'])['aux'].cumsum() -1\n",
    "\n",
    "    # Number of correct and incorrect attempts before current attempt\n",
    "    data.loc[:, 'correct_aux'] = data.sort_values('order_id').groupby(['user_id', 'skill_name'])['correct'].cumsum()\n",
    "    data.loc[:, 'before_correct_num'] = data.sort_values('order_id').groupby(['user_id', 'skill_name'])['correct_aux'].shift(periods=1, fill_value=0)\n",
    "    data.loc[:, 'before_wrong_num'] = data['prev_attempts'] - data['before_correct_num']\n",
    "    return data\n",
    "\n",
    "data = preprocess_data(data)\n",
    "data.head()"
   ]
  },
  {
   "cell_type": "markdown",
   "id": "e30af2d7-6937-41c1-b615-10637460a543",
   "metadata": {},
   "source": [
    "Next, we split the data into a training and a test data set."
   ]
  },
  {
   "cell_type": "code",
   "execution_count": 15,
   "id": "c934fba9",
   "metadata": {},
   "outputs": [],
   "source": [
    "# Obtain indexes\n",
    "train_index, test_index = next(create_iterator(data))\n",
    "# Split the data\n",
    "X_train, X_test = data.iloc[train_index], data.iloc[test_index]"
   ]
  },
  {
   "cell_type": "markdown",
   "id": "953c3151-e3b0-4684-aa16-1c386e942afa",
   "metadata": {},
   "source": [
    "Next, we fit an AFM model to the training data and predict on the test data. Note that the implementation below only works for a one-to-one correspondance of task and skill, i.e. when a task is associated to exactly one skill. In case of a data set containing tasks with multiple skills, we would need to use the [pyAFM](https://github.com/cmaclell/pyAFM) package. A tutorial on using pyAFM can be found [here](https://github.com/epfl-ml4ed/mlbd-2021/tree/main/Tutorials/Tutorial06/Tutorial06)."
   ]
  },
  {
   "cell_type": "code",
   "execution_count": null,
   "id": "0230d1fb",
   "metadata": {
    "tags": []
   },
   "outputs": [
    {
     "name": "stdout",
     "output_type": "stream",
     "text": [
      "Formula: correct~(1|user_id)+(1|skill_name)+(0+prev_attempts|skill_name)\n",
      "\n",
      "Family: binomial\t Inference: parametric\n",
      "\n",
      "Number of observations: 40258\t Groups: {'user_id': 1221.0, 'skill_name': 6.0}\n",
      "\n",
      "Log-likelihood: -16797.782 \t AIC: 33603.565\n",
      "\n",
      "Random effects:\n",
      "\n",
      "                       Name     Var     Std\n",
      "user_id         (Intercept) 2.56000 1.60000\n",
      "skill_name      (Intercept) 0.68300 0.82700\n",
      "skill_name.1  prev_attempts 0.00500 0.06900\n",
      "\n",
      "No random effect correlations specified\n",
      "\n",
      "Fixed effects:\n",
      "\n",
      "CPU times: user 24.6 s, sys: 80 ms, total: 24.7 s\n",
      "Wall time: 24.7 s\n"
     ]
    },
    {
     "name": "stderr",
     "output_type": "stream",
     "text": [
      "/tmp/ipykernel_857/736728277.py:5: SettingWithCopyWarning: \n",
      "A value is trying to be set on a copy of a slice from a DataFrame.\n",
      "Try using .loc[row_indexer,col_indexer] = value instead\n",
      "\n",
      "See the caveats in the documentation: https://pandas.pydata.org/pandas-docs/stable/user_guide/indexing.html#returning-a-view-versus-a-copy\n",
      "  X_test['afm_predictions'] = model.predict(data=X_test, verify_predictions=False)\n"
     ]
    },
    {
     "data": {
      "text/html": [
       "<div>\n",
       "<style scoped>\n",
       "    .dataframe tbody tr th:only-of-type {\n",
       "        vertical-align: middle;\n",
       "    }\n",
       "\n",
       "    .dataframe tbody tr th {\n",
       "        vertical-align: top;\n",
       "    }\n",
       "\n",
       "    .dataframe thead th {\n",
       "        text-align: right;\n",
       "    }\n",
       "</style>\n",
       "<table border=\"1\" class=\"dataframe\">\n",
       "  <thead>\n",
       "    <tr style=\"text-align: right;\">\n",
       "      <th></th>\n",
       "      <th>user_id</th>\n",
       "      <th>order_id</th>\n",
       "      <th>skill_name</th>\n",
       "      <th>correct</th>\n",
       "      <th>aux</th>\n",
       "      <th>prev_attempts</th>\n",
       "      <th>correct_aux</th>\n",
       "      <th>before_correct_num</th>\n",
       "      <th>before_wrong_num</th>\n",
       "      <th>afm_predictions</th>\n",
       "    </tr>\n",
       "  </thead>\n",
       "  <tbody>\n",
       "    <tr>\n",
       "      <th>3969</th>\n",
       "      <td>64525</td>\n",
       "      <td>28186893</td>\n",
       "      <td>Circle Graph</td>\n",
       "      <td>1</td>\n",
       "      <td>1</td>\n",
       "      <td>0</td>\n",
       "      <td>1</td>\n",
       "      <td>0</td>\n",
       "      <td>0</td>\n",
       "      <td>0.48266</td>\n",
       "    </tr>\n",
       "    <tr>\n",
       "      <th>3970</th>\n",
       "      <td>64525</td>\n",
       "      <td>28187093</td>\n",
       "      <td>Circle Graph</td>\n",
       "      <td>1</td>\n",
       "      <td>1</td>\n",
       "      <td>1</td>\n",
       "      <td>2</td>\n",
       "      <td>1</td>\n",
       "      <td>0</td>\n",
       "      <td>0.49251</td>\n",
       "    </tr>\n",
       "    <tr>\n",
       "      <th>3971</th>\n",
       "      <td>64525</td>\n",
       "      <td>32413158</td>\n",
       "      <td>Circle Graph</td>\n",
       "      <td>1</td>\n",
       "      <td>1</td>\n",
       "      <td>2</td>\n",
       "      <td>3</td>\n",
       "      <td>2</td>\n",
       "      <td>0</td>\n",
       "      <td>0.50236</td>\n",
       "    </tr>\n",
       "    <tr>\n",
       "      <th>3972</th>\n",
       "      <td>64525</td>\n",
       "      <td>33022751</td>\n",
       "      <td>Circle Graph</td>\n",
       "      <td>0</td>\n",
       "      <td>1</td>\n",
       "      <td>3</td>\n",
       "      <td>3</td>\n",
       "      <td>3</td>\n",
       "      <td>0</td>\n",
       "      <td>0.51221</td>\n",
       "    </tr>\n",
       "    <tr>\n",
       "      <th>3973</th>\n",
       "      <td>64525</td>\n",
       "      <td>33023039</td>\n",
       "      <td>Circle Graph</td>\n",
       "      <td>1</td>\n",
       "      <td>1</td>\n",
       "      <td>4</td>\n",
       "      <td>4</td>\n",
       "      <td>3</td>\n",
       "      <td>1</td>\n",
       "      <td>0.52205</td>\n",
       "    </tr>\n",
       "  </tbody>\n",
       "</table>\n",
       "</div>"
      ],
      "text/plain": [
       "      user_id  order_id    skill_name  correct  aux  prev_attempts  \\\n",
       "3969    64525  28186893  Circle Graph        1    1              0   \n",
       "3970    64525  28187093  Circle Graph        1    1              1   \n",
       "3971    64525  32413158  Circle Graph        1    1              2   \n",
       "3972    64525  33022751  Circle Graph        0    1              3   \n",
       "3973    64525  33023039  Circle Graph        1    1              4   \n",
       "\n",
       "      correct_aux  before_correct_num  before_wrong_num  afm_predictions  \n",
       "3969            1                   0                 0          0.48266  \n",
       "3970            2                   1                 0          0.49251  \n",
       "3971            3                   2                 0          0.50236  \n",
       "3972            3                   3                 0          0.51221  \n",
       "3973            4                   3                 1          0.52205  "
      ]
     },
     "execution_count": 16,
     "metadata": {},
     "output_type": "execute_result"
    }
   ],
   "source": [
    "# Initialize and fit the model\n",
    "model = Lmer(\"correct ~ (1|user_id) + (1|skill_name) + (0 + prev_attempts|skill_name)\", data=X_train, family='binomial')\n",
    "%time model.fit() \n",
    "# Compute predictions\n",
    "X_test['afm_predictions'] = model.predict(data=X_test, verify_predictions=False)\n",
    "X_test.head()"
   ]
  },
  {
   "cell_type": "markdown",
   "id": "000b33e5-fd6e-4c75-a195-e612b634f84d",
   "metadata": {},
   "source": [
    "Next, we fit a PFA model to the data. Again, this implementation works for one-to-one correspondance and tasks with multiple skills would require the use of [pyAFM](https://github.com/cmaclell/pyAFM)."
   ]
  },
  {
   "cell_type": "code",
   "execution_count": null,
   "id": "8a2e684e-0bf6-4273-ac3a-e7466576b43d",
   "metadata": {},
   "outputs": [
    {
     "name": "stdout",
     "output_type": "stream",
     "text": [
      "Formula: correct~(1|user_id)+(1|skill_name)+(0+before_correct_num|skill_name)+(0+before_wrong_num|skill_name)\n",
      "\n",
      "Family: binomial\t Inference: parametric\n",
      "\n",
      "Number of observations: 40258\t Groups: {'user_id': 1221.0, 'skill_name': 6.0}\n",
      "\n",
      "Log-likelihood: -16385.969 \t AIC: 32781.939\n",
      "\n",
      "Random effects:\n",
      "\n",
      "                            Name     Var     Std\n",
      "user_id              (Intercept) 1.74800 1.32200\n",
      "skill_name           (Intercept) 0.69900 0.83600\n",
      "skill_name.1  before_correct_num 0.02600 0.16200\n",
      "skill_name.2    before_wrong_num 0.00000 0.01000\n",
      "\n",
      "No random effect correlations specified\n",
      "\n",
      "Fixed effects:\n",
      "\n",
      "CPU times: user 1min 10s, sys: 208 ms, total: 1min 10s\n",
      "Wall time: 1min 10s\n"
     ]
    },
    {
     "name": "stderr",
     "output_type": "stream",
     "text": [
      "/tmp/ipykernel_857/1100232259.py:5: SettingWithCopyWarning: \n",
      "A value is trying to be set on a copy of a slice from a DataFrame.\n",
      "Try using .loc[row_indexer,col_indexer] = value instead\n",
      "\n",
      "See the caveats in the documentation: https://pandas.pydata.org/pandas-docs/stable/user_guide/indexing.html#returning-a-view-versus-a-copy\n",
      "  X_test['pfa_predictions'] = model.predict(data=X_test, verify_predictions=False)\n"
     ]
    },
    {
     "data": {
      "text/html": [
       "<div>\n",
       "<style scoped>\n",
       "    .dataframe tbody tr th:only-of-type {\n",
       "        vertical-align: middle;\n",
       "    }\n",
       "\n",
       "    .dataframe tbody tr th {\n",
       "        vertical-align: top;\n",
       "    }\n",
       "\n",
       "    .dataframe thead th {\n",
       "        text-align: right;\n",
       "    }\n",
       "</style>\n",
       "<table border=\"1\" class=\"dataframe\">\n",
       "  <thead>\n",
       "    <tr style=\"text-align: right;\">\n",
       "      <th></th>\n",
       "      <th>user_id</th>\n",
       "      <th>order_id</th>\n",
       "      <th>skill_name</th>\n",
       "      <th>correct</th>\n",
       "      <th>aux</th>\n",
       "      <th>prev_attempts</th>\n",
       "      <th>correct_aux</th>\n",
       "      <th>before_correct_num</th>\n",
       "      <th>before_wrong_num</th>\n",
       "      <th>afm_predictions</th>\n",
       "      <th>pfa_predictions</th>\n",
       "    </tr>\n",
       "  </thead>\n",
       "  <tbody>\n",
       "    <tr>\n",
       "      <th>3969</th>\n",
       "      <td>64525</td>\n",
       "      <td>28186893</td>\n",
       "      <td>Circle Graph</td>\n",
       "      <td>1</td>\n",
       "      <td>1</td>\n",
       "      <td>0</td>\n",
       "      <td>1</td>\n",
       "      <td>0</td>\n",
       "      <td>0</td>\n",
       "      <td>0.48266</td>\n",
       "      <td>0.46224</td>\n",
       "    </tr>\n",
       "    <tr>\n",
       "      <th>3970</th>\n",
       "      <td>64525</td>\n",
       "      <td>28187093</td>\n",
       "      <td>Circle Graph</td>\n",
       "      <td>1</td>\n",
       "      <td>1</td>\n",
       "      <td>1</td>\n",
       "      <td>2</td>\n",
       "      <td>1</td>\n",
       "      <td>0</td>\n",
       "      <td>0.49251</td>\n",
       "      <td>0.48999</td>\n",
       "    </tr>\n",
       "    <tr>\n",
       "      <th>3971</th>\n",
       "      <td>64525</td>\n",
       "      <td>32413158</td>\n",
       "      <td>Circle Graph</td>\n",
       "      <td>1</td>\n",
       "      <td>1</td>\n",
       "      <td>2</td>\n",
       "      <td>3</td>\n",
       "      <td>2</td>\n",
       "      <td>0</td>\n",
       "      <td>0.50236</td>\n",
       "      <td>0.51780</td>\n",
       "    </tr>\n",
       "    <tr>\n",
       "      <th>3972</th>\n",
       "      <td>64525</td>\n",
       "      <td>33022751</td>\n",
       "      <td>Circle Graph</td>\n",
       "      <td>0</td>\n",
       "      <td>1</td>\n",
       "      <td>3</td>\n",
       "      <td>3</td>\n",
       "      <td>3</td>\n",
       "      <td>0</td>\n",
       "      <td>0.51221</td>\n",
       "      <td>0.54551</td>\n",
       "    </tr>\n",
       "    <tr>\n",
       "      <th>3973</th>\n",
       "      <td>64525</td>\n",
       "      <td>33023039</td>\n",
       "      <td>Circle Graph</td>\n",
       "      <td>1</td>\n",
       "      <td>1</td>\n",
       "      <td>4</td>\n",
       "      <td>4</td>\n",
       "      <td>3</td>\n",
       "      <td>1</td>\n",
       "      <td>0.52205</td>\n",
       "      <td>0.54598</td>\n",
       "    </tr>\n",
       "  </tbody>\n",
       "</table>\n",
       "</div>"
      ],
      "text/plain": [
       "      user_id  order_id    skill_name  correct  aux  prev_attempts  \\\n",
       "3969    64525  28186893  Circle Graph        1    1              0   \n",
       "3970    64525  28187093  Circle Graph        1    1              1   \n",
       "3971    64525  32413158  Circle Graph        1    1              2   \n",
       "3972    64525  33022751  Circle Graph        0    1              3   \n",
       "3973    64525  33023039  Circle Graph        1    1              4   \n",
       "\n",
       "      correct_aux  before_correct_num  before_wrong_num  afm_predictions  \\\n",
       "3969            1                   0                 0          0.48266   \n",
       "3970            2                   1                 0          0.49251   \n",
       "3971            3                   2                 0          0.50236   \n",
       "3972            3                   3                 0          0.51221   \n",
       "3973            4                   3                 1          0.52205   \n",
       "\n",
       "      pfa_predictions  \n",
       "3969          0.46224  \n",
       "3970          0.48999  \n",
       "3971          0.51780  \n",
       "3972          0.54551  \n",
       "3973          0.54598  "
      ]
     },
     "execution_count": 17,
     "metadata": {},
     "output_type": "execute_result"
    }
   ],
   "source": [
    "# Initialize and fit the model\n",
    "model = Lmer(\"correct ~ (1|user_id) + (1|skill_name) + (0 + before_correct_num|skill_name) + (0 + before_wrong_num|skill_name)\", data=X_train, family='binomial')\n",
    "%time model.fit() \n",
    "# Compute predictions\n",
    "X_test['pfa_predictions'] = model.predict(data=X_test, verify_predictions=False)\n",
    "X_test.head()"
   ]
  },
  {
   "cell_type": "markdown",
   "id": "1c3170fc-04a0-4270-939b-c0a44d602bed",
   "metadata": {},
   "source": [
    "## Deep Knowledge Tracing (DKT)"
   ]
  },
  {
   "cell_type": "markdown",
   "id": "12b566d0-bda1-4a92-943b-5403d16ea291",
   "metadata": {},
   "source": [
    "Knowledge tracing is one of the key research areas for empowering personalized education. It is a task to model students' mastery level of a skill based on their historical learning trajectories. In recent years, a recurrent neural network model called deep knowledge tracing (DKT) has been proposed to handle the knowledge tracing task and literature has shown that DKT generally outperforms traditional methods.\n",
    "\n",
    "Next, we will create and evaluate DKT models on top of a TensorFlow framework. For those who are not familiar with this framework, we recommended to follow the [official tutorials](https://www.tensorflow.org/tutorials/quickstart/beginner). \n",
    "\n",
    "We continue to work with the small subset (six skills of the data). Furthermore, we will continue to use the same train test split as before."
   ]
  },
  {
   "cell_type": "markdown",
   "id": "44cd3fec-1836-45f9-8d6d-3bfe6722c31e",
   "metadata": {},
   "source": [
    "### Data preparation\n",
    "A DKT model is characterized by the following main three components:\n",
    "- **Input**: the one-hot encoded observations at varying time steps. \n",
    "- **Network**: a recurrent neural network that processes the one-hot encoded observations in a time-wise manner. \n",
    "- **Output**: the probabilities for answering skill (or item) correct at the varying time steps.  \n",
    "\n",
    "The first step to enable a DKT experimental pipeline requires to prepare the input and output data to be fed into the model during the training and evaluation phases. TensorFlow has an API, called [TF Dataset](https://www.tensorflow.org/api_docs/python/tf/data/Dataset), that supports writing descriptive and efficient input pipelines. Dataset usage follows a common pattern: (i) create a source dataset from your input data, (ii) apply dataset transformations to preprocess the data, (iii) iterate over the dataset and process the elements. Iteration happens in a streaming fashion, so the full dataset does not need to fit into memory."
   ]
  },
  {
   "cell_type": "code",
   "execution_count": null,
   "id": "15cdd7c1-648b-4d48-9f11-a154bc1b968a",
   "metadata": {},
   "outputs": [],
   "source": [
    "def prepare_seq(df):\n",
    "    # Step 1 - Enumerate skill id\n",
    "    df['skill'], skill_codes = pd.factorize(df['skill_name'], sort=True)\n",
    "\n",
    "    # Step 2 - Cross skill id with answer to form a synthetic feature\n",
    "    df['skill_with_answer'] = df['skill'] * 2 + df['correct']\n",
    "\n",
    "    # Step 3 - Convert to a sequence per user id and shift features 1 timestep\n",
    "    seq = df.groupby('user_id').apply(lambda r: (r['skill_with_answer'].values[:-1], r['skill'].values[1:], r['correct'].values[1:],))\n",
    "    \n",
    "    # Step 4- Get max skill depth and max feature depth\n",
    "    skill_depth = df['skill'].max() \n",
    "    features_depth = df['skill_with_answer'].max() + 1\n",
    "\n",
    "    return seq, features_depth, skill_depth"
   ]
  },
  {
   "cell_type": "code",
   "execution_count": null,
   "id": "ea5af72e-0a26-448d-91dc-a2baa983973a",
   "metadata": {},
   "outputs": [],
   "source": [
    "def prepare_data(seq, params, features_depth, skill_depth):\n",
    "    \n",
    "    # Step 1 - Get Tensorflow Dataset\n",
    "    dataset = tf.data.Dataset.from_generator(generator=lambda: seq, output_types=(tf.int32, tf.int32, tf.float32))\n",
    "\n",
    "    # Step 2 - Encode categorical features and merge skills with labels to compute target loss.\n",
    "    dataset = dataset.map(\n",
    "        lambda feat, skill, label: (\n",
    "            tf.one_hot(feat, depth=features_depth),\n",
    "            tf.concat(values=[tf.one_hot(skill, depth=skill_depth), tf.expand_dims(label, -1)], axis=-1)\n",
    "        )\n",
    "    )\n",
    "\n",
    "    # Step 3 - Pad sequences per batch\n",
    "    dataset = dataset.padded_batch(\n",
    "        batch_size=params['batch_size'],\n",
    "        padding_values=(params['mask_value'], params['mask_value']),\n",
    "        padded_shapes=([None, None], [None, None]),\n",
    "        drop_remainder=True\n",
    "    )\n",
    "\n",
    "    return dataset.repeat(), len(seq)"
   ]
  },
  {
   "cell_type": "markdown",
   "id": "c7ee9676-4265-4ebc-a060-3ba499c74e6e",
   "metadata": {},
   "source": [
    "The data needs to be fed into the model in batches. Therefore, we need to specify in advance how many elements per batch our DKT will receive. Furthermore, all sequences should be of the same length in order to be fed into the model. Given that students have different number of opportunities across skills, we need to define a masking value for those entries that are introduced as a padding into the student's sequences."
   ]
  },
  {
   "cell_type": "code",
   "execution_count": null,
   "id": "2e9f10e7-d6f9-4a89-b996-9d4f62396062",
   "metadata": {},
   "outputs": [],
   "source": [
    "params = {}\n",
    "params['batch_size'] = 32\n",
    "params['mask_value'] = -1.0"
   ]
  },
  {
   "cell_type": "markdown",
   "id": "29fe3457-25d6-4219-b918-e40287049e2a",
   "metadata": {},
   "source": [
    "We are now ready to encode the data and split into a training, validation, and test set."
   ]
  },
  {
   "cell_type": "code",
   "execution_count": null,
   "id": "4a2e3e61-d8c9-4dab-9a2b-0b0a372534c5",
   "metadata": {
    "tags": []
   },
   "outputs": [
    {
     "name": "stderr",
     "output_type": "stream",
     "text": [
      "/tmp/ipykernel_857/2886616435.py:3: SettingWithCopyWarning: \n",
      "A value is trying to be set on a copy of a slice from a DataFrame.\n",
      "Try using .loc[row_indexer,col_indexer] = value instead\n",
      "\n",
      "See the caveats in the documentation: https://pandas.pydata.org/pandas-docs/stable/user_guide/indexing.html#returning-a-view-versus-a-copy\n",
      "  df['skill'], skill_codes = pd.factorize(df['skill_name'], sort=True)\n",
      "/tmp/ipykernel_857/2886616435.py:6: SettingWithCopyWarning: \n",
      "A value is trying to be set on a copy of a slice from a DataFrame.\n",
      "Try using .loc[row_indexer,col_indexer] = value instead\n",
      "\n",
      "See the caveats in the documentation: https://pandas.pydata.org/pandas-docs/stable/user_guide/indexing.html#returning-a-view-versus-a-copy\n",
      "  df['skill_with_answer'] = df['skill'] * 2 + df['correct']\n",
      "2023-04-14 13:32:18.681226: W tensorflow/stream_executor/platform/default/dso_loader.cc:64] Could not load dynamic library 'libcuda.so.1'; dlerror: libcuda.so.1: cannot open shared object file: No such file or directory\n",
      "2023-04-14 13:32:18.681342: W tensorflow/stream_executor/cuda/cuda_driver.cc:269] failed call to cuInit: UNKNOWN ERROR (303)\n",
      "2023-04-14 13:32:18.681445: I tensorflow/stream_executor/cuda/cuda_diagnostics.cc:156] kernel driver does not appear to be running on this host (noto.epfl.ch): /proc/driver/nvidia/version does not exist\n",
      "2023-04-14 13:32:18.682747: I tensorflow/core/platform/cpu_feature_guard.cc:151] This TensorFlow binary is optimized with oneAPI Deep Neural Network Library (oneDNN) to use the following CPU instructions in performance-critical operations:  AVX2 FMA\n",
      "To enable them in other operations, rebuild TensorFlow with the appropriate compiler flags.\n"
     ]
    }
   ],
   "source": [
    "# Obtain indexes for necessary validation set\n",
    "train_val_index, val_index = next(create_iterator(X_train))\n",
    "# Split the training data into training and validation\n",
    "X_train_val, X_val = X_train.iloc[train_val_index], X_train.iloc[val_index]\n",
    "\n",
    "seq, features_depth, skill_depth = prepare_seq(data)\n",
    "seq_train = seq[X_train.user_id.unique()]\n",
    "seq_val = seq[X_train_val.user_id.unique()]\n",
    "seq_test = seq[X_test.user_id.unique()]\n",
    "\n",
    "tf_train, length = prepare_data(seq_train, params, features_depth, skill_depth)\n",
    "tf_val, val_length  = prepare_data(seq_val, params, features_depth, skill_depth)\n",
    "tf_test, test_length = prepare_data(seq_test, params, features_depth, skill_depth)\n",
    "\n",
    "params['train_size'] = int(length // params['batch_size'])\n",
    "params['val_size'] = int(val_length // params['batch_size'])\n",
    "params['test_size'] = int(test_length // params['batch_size'])"
   ]
  },
  {
   "cell_type": "markdown",
   "id": "bbe316de-3995-4a84-b6ac-c531430feab3",
   "metadata": {
    "tags": []
   },
   "source": [
    "### Model Creation"
   ]
  },
  {
   "cell_type": "markdown",
   "id": "1f5f2749-1c54-4921-bf82-1d4dcbfe974e",
   "metadata": {},
   "source": [
    "Next, we create and compile the model. To do so, we first define the necessary parameters."
   ]
  },
  {
   "cell_type": "code",
   "execution_count": null,
   "id": "c006d5fa-6d45-4227-9511-ce5bf373e122",
   "metadata": {},
   "outputs": [],
   "source": [
    "params['verbose'] = 1 # Verbose = {0,1,2}\n",
    "params['best_model_weights'] = 'weights/bestmodel' # File to save the model\n",
    "params['optimizer'] = 'adam' # Optimizer to use\n",
    "params['backbone_nn'] = tf.keras.layers.RNN # Backbone neural network\n",
    "params['recurrent_units'] = 16 # Number of RNN units\n",
    "params['epochs'] = 10  # Number of epochs to train\n",
    "params['dropout_rate'] = 0.3 # Dropout rate"
   ]
  },
  {
   "cell_type": "markdown",
   "id": "d37ffa17-ca12-450b-8f8a-4957eaf1e91f",
   "metadata": {},
   "source": [
    "Considering that we padded the sequences such that all have the same length, we need to remove predictions on the time step associated with padding. We also need to mach each output with a specific skill.\n",
    "To this end, we implement a function calle get_target. "
   ]
  },
  {
   "cell_type": "code",
   "execution_count": null,
   "id": "f169eac0-00c0-41ff-bd6a-bfdc2c1dd06f",
   "metadata": {},
   "outputs": [],
   "source": [
    "def get_target(y_true, y_pred, mask_value=params['mask_value']):\n",
    "    \n",
    "    # Get skills and labels from y_true\n",
    "    mask = 1. - tf.cast(tf.equal(y_true, mask_value), y_true.dtype)\n",
    "    y_true = y_true * mask\n",
    "\n",
    "    skills, y_true = tf.split(y_true, num_or_size_splits=[-1, 1], axis=-1)\n",
    "\n",
    "    # Get predictions for each skill\n",
    "    y_pred = tf.reduce_sum(y_pred * skills, axis=-1, keepdims=True)\n",
    "\n",
    "    return y_true, y_pred"
   ]
  },
  {
   "cell_type": "markdown",
   "id": "5b5b1698-5006-4e46-b014-3d43b91db609",
   "metadata": {},
   "source": [
    "While training the model, we will monitor the following evaluation metrics."
   ]
  },
  {
   "cell_type": "code",
   "execution_count": null,
   "id": "391fe1a6-cc62-4440-9147-e0a076ad1d33",
   "metadata": {},
   "outputs": [],
   "source": [
    "class AUC(tf.keras.metrics.AUC):\n",
    "    def update_state(self, y_true, y_pred, sample_weight=None):\n",
    "        true, pred = get_target(y_true, y_pred)\n",
    "        super(AUC, self).update_state(y_true=true, y_pred=pred, sample_weight=sample_weight)\n",
    "\n",
    "class RMSE(tf.keras.metrics.RootMeanSquaredError):\n",
    "    def update_state(self, y_true, y_pred, sample_weight=None):\n",
    "        true, pred = get_target(y_true, y_pred)\n",
    "        super(RMSE, self).update_state(y_true=true, y_pred=pred, sample_weight=sample_weight)\n",
    "        \n",
    "def CustomBinaryCrossEntropy(y_true, y_pred):    \n",
    "    y_true, y_pred = get_target(y_true, y_pred)\n",
    "    return tf.keras.losses.binary_crossentropy(y_true, y_pred)   "
   ]
  },
  {
   "attachments": {},
   "cell_type": "markdown",
   "id": "4b4b5a3a-3f3a-4729-a7f8-8196edbe85ea",
   "metadata": {},
   "source": [
    "We are now ready to create the model."
   ]
  },
  {
   "cell_type": "code",
   "execution_count": null,
   "id": "5689b3b6-ca06-4c06-8901-50bbd0ec89e3",
   "metadata": {},
   "outputs": [],
   "source": [
    "def create_model(nb_features, nb_skills, params):\n",
    "    \n",
    "    # Create the model architecture\n",
    "    inputs = tf.keras.Input(shape=(None, nb_features), name='inputs')\n",
    "    x = tf.keras.layers.Masking(mask_value=params['mask_value'])(inputs)\n",
    "    x = tf.keras.layers.LSTM(params['recurrent_units'], return_sequences=True, dropout=params['dropout_rate'])(x)\n",
    "    dense = tf.keras.layers.Dense(nb_skills, activation='sigmoid')\n",
    "    outputs = tf.keras.layers.TimeDistributed(dense, name='outputs')(x)\n",
    "    model = tf.keras.models.Model(inputs=inputs, outputs=outputs, name='DKT')\n",
    "\n",
    "    # Compile the model\n",
    "    model.compile(loss=CustomBinaryCrossEntropy, \n",
    "                  optimizer=params['optimizer'], \n",
    "                  metrics=[AUC(), RMSE()])\n",
    "    \n",
    "    return model\n",
    "\n",
    "model = create_model(features_depth, skill_depth, params)"
   ]
  },
  {
   "cell_type": "code",
   "execution_count": null,
   "id": "5f274fd4-b346-4d3f-ad8b-4e9ce6da7ac6",
   "metadata": {},
   "outputs": [
    {
     "name": "stdout",
     "output_type": "stream",
     "text": [
      "Model: \"DKT\"\n",
      "_________________________________________________________________\n",
      " Layer (type)                Output Shape              Param #   \n",
      "=================================================================\n",
      " inputs (InputLayer)         [(None, None, 12)]        0         \n",
      "                                                                 \n",
      " masking (Masking)           (None, None, 12)          0         \n",
      "                                                                 \n",
      " lstm (LSTM)                 (None, None, 16)          1856      \n",
      "                                                                 \n",
      " outputs (TimeDistributed)   (None, None, 5)           85        \n",
      "                                                                 \n",
      "=================================================================\n",
      "Total params: 1,941\n",
      "Trainable params: 1,941\n",
      "Non-trainable params: 0\n",
      "_________________________________________________________________\n"
     ]
    }
   ],
   "source": [
    "model.summary()"
   ]
  },
  {
   "cell_type": "markdown",
   "id": "73c67834-af65-4db0-b5a3-e918da3e2af6",
   "metadata": {},
   "source": [
    "### Model Fitting and Evaluation"
   ]
  },
  {
   "cell_type": "markdown",
   "id": "65e74c02-90df-4c44-9b88-c0287200cf57",
   "metadata": {},
   "source": [
    "Finally, we fit the model on the training data and evaluate it on the test data.\n",
    "We are using a callback for the model, i.e. we store the best model (on the validation set) and then use this model for prediction."
   ]
  },
  {
   "cell_type": "code",
   "execution_count": null,
   "id": "7e316425-3d56-469e-a3d3-0c100ae08fca",
   "metadata": {},
   "outputs": [
    {
     "name": "stdout",
     "output_type": "stream",
     "text": [
      "Epoch 1/10\n",
      "38/38 [==============================] - 13s 219ms/step - loss: 0.8645 - auc: 0.5299 - root_mean_squared_error: 0.6772 - val_loss: 0.8615 - val_auc: 0.5734 - val_root_mean_squared_error: 0.6777\n",
      "Epoch 2/10\n",
      "38/38 [==============================] - 8s 212ms/step - loss: 0.8592 - auc: 0.5792 - root_mean_squared_error: 0.6667 - val_loss: 0.8556 - val_auc: 0.5861 - val_root_mean_squared_error: 0.6668\n",
      "Epoch 3/10\n",
      "38/38 [==============================] - 7s 174ms/step - loss: 0.8537 - auc: 0.5893 - root_mean_squared_error: 0.6551 - val_loss: 0.8489 - val_auc: 0.5883 - val_root_mean_squared_error: 0.6549\n",
      "Epoch 4/10\n",
      "38/38 [==============================] - 6s 166ms/step - loss: 0.8473 - auc: 0.5919 - root_mean_squared_error: 0.6434 - val_loss: 0.8426 - val_auc: 0.5862 - val_root_mean_squared_error: 0.6453\n",
      "Epoch 5/10\n",
      "38/38 [==============================] - 7s 183ms/step - loss: 0.8432 - auc: 0.5906 - root_mean_squared_error: 0.6345 - val_loss: 0.8379 - val_auc: 0.5863 - val_root_mean_squared_error: 0.6389\n",
      "Epoch 6/10\n",
      "38/38 [==============================] - 7s 174ms/step - loss: 0.8390 - auc: 0.5918 - root_mean_squared_error: 0.6286 - val_loss: 0.8344 - val_auc: 0.5876 - val_root_mean_squared_error: 0.6352\n",
      "Epoch 7/10\n",
      "38/38 [==============================] - 6s 169ms/step - loss: 0.8356 - auc: 0.5934 - root_mean_squared_error: 0.6251 - val_loss: 0.8323 - val_auc: 0.5873 - val_root_mean_squared_error: 0.6338\n",
      "Epoch 8/10\n",
      "38/38 [==============================] - 6s 165ms/step - loss: 0.8348 - auc: 0.5925 - root_mean_squared_error: 0.6242 - val_loss: 0.8305 - val_auc: 0.5890 - val_root_mean_squared_error: 0.6322\n",
      "Epoch 9/10\n",
      "38/38 [==============================] - 7s 188ms/step - loss: 0.8341 - auc: 0.5942 - root_mean_squared_error: 0.6228 - val_loss: 0.8284 - val_auc: 0.5909 - val_root_mean_squared_error: 0.6307\n",
      "Epoch 10/10\n",
      "38/38 [==============================] - 7s 180ms/step - loss: 0.8319 - auc: 0.5956 - root_mean_squared_error: 0.6215 - val_loss: 0.8271 - val_auc: 0.5908 - val_root_mean_squared_error: 0.6302\n"
     ]
    }
   ],
   "source": [
    "ckp_callback = tf.keras.callbacks.ModelCheckpoint(params['best_model_weights'], save_best_only=True, save_weights_only=True)\n",
    "history = model.fit(tf_train, epochs=params['epochs'], steps_per_epoch=params['train_size'], \n",
    "                    validation_data=tf_val,  validation_steps = params['val_size'], \n",
    "                    callbacks=[ckp_callback], verbose=params['verbose'])"
   ]
  },
  {
   "cell_type": "markdown",
   "id": "5f70c6c2-e7e1-499b-bdff-b455aadf86a0",
   "metadata": {},
   "source": [
    "We evaluate on the test data set and print the results."
   ]
  },
  {
   "cell_type": "code",
   "execution_count": null,
   "id": "67b63e31-baec-4b66-83d2-1b50471950f8",
   "metadata": {},
   "outputs": [
    {
     "name": "stdout",
     "output_type": "stream",
     "text": [
      "9/9 [==============================] - 1s 46ms/step - loss: 0.6262 - auc: 0.6545 - root_mean_squared_error: 0.5911\n"
     ]
    }
   ],
   "source": [
    "model.load_weights(params['best_model_weights'])\n",
    "metrics_dkt_small = model.evaluate(tf_test, verbose=params['verbose'], steps = params['test_size'])"
   ]
  },
  {
   "cell_type": "code",
   "execution_count": null,
   "id": "9470703c-ac7a-4886-9647-972cb43b9109",
   "metadata": {},
   "outputs": [
    {
     "data": {
      "text/plain": [
       "[0.6262012124061584, 0.6544973850250244, 0.5910719037055969]"
      ]
     },
     "execution_count": 29,
     "metadata": {},
     "output_type": "execute_result"
    }
   ],
   "source": [
    "# Binary cross entropy, AUC, RMSE\n",
    "metrics_dkt_small"
   ]
  },
  {
   "cell_type": "markdown",
   "id": "c4ea8507-82fc-4a0a-afd8-cf0f3b88f409",
   "metadata": {
    "tags": []
   },
   "source": [
    "## BKT"
   ]
  },
  {
   "cell_type": "markdown",
   "id": "7a1c717f-5cab-48c6-b4a3-495154b5cf24",
   "metadata": {},
   "source": [
    "We first also fit a BKT model to this data set using the same train/test split as above."
   ]
  },
  {
   "cell_type": "code",
   "execution_count": null,
   "id": "d044fa2b-0958-41ff-92cc-cc5a7bc4c516",
   "metadata": {},
   "outputs": [
    {
     "name": "stdout",
     "output_type": "stream",
     "text": [
      "--Circle Graph--\n",
      "CPU times: user 6.39 s, sys: 0 ns, total: 6.39 s\n",
      "Wall time: 6.78 s\n",
      "--Venn Diagram--\n",
      "CPU times: user 5 s, sys: 0 ns, total: 5 s\n",
      "Wall time: 5.38 s\n",
      "--Mode--\n",
      "CPU times: user 8.29 s, sys: 0 ns, total: 8.29 s\n",
      "Wall time: 8.69 s\n",
      "--Division Fractions--\n",
      "CPU times: user 6.7 s, sys: 0 ns, total: 6.7 s\n",
      "Wall time: 6.98 s\n",
      "--Finding Percents--\n",
      "CPU times: user 7 s, sys: 0 ns, total: 7 s\n",
      "Wall time: 7.48 s\n",
      "--Area Rectangle--\n",
      "CPU times: user 3.68 s, sys: 0 ns, total: 3.68 s\n",
      "Wall time: 3.88 s\n"
     ]
    },
    {
     "data": {
      "text/html": [
       "<div>\n",
       "<style scoped>\n",
       "    .dataframe tbody tr th:only-of-type {\n",
       "        vertical-align: middle;\n",
       "    }\n",
       "\n",
       "    .dataframe tbody tr th {\n",
       "        vertical-align: top;\n",
       "    }\n",
       "\n",
       "    .dataframe thead th {\n",
       "        text-align: right;\n",
       "    }\n",
       "</style>\n",
       "<table border=\"1\" class=\"dataframe\">\n",
       "  <thead>\n",
       "    <tr style=\"text-align: right;\">\n",
       "      <th></th>\n",
       "      <th>user_id</th>\n",
       "      <th>order_id</th>\n",
       "      <th>skill_name</th>\n",
       "      <th>correct</th>\n",
       "      <th>prev_attempts</th>\n",
       "      <th>before_correct_num</th>\n",
       "      <th>before_wrong_num</th>\n",
       "      <th>afm_predictions</th>\n",
       "      <th>pfa_predictions</th>\n",
       "      <th>bkt_predictions</th>\n",
       "    </tr>\n",
       "  </thead>\n",
       "  <tbody>\n",
       "    <tr>\n",
       "      <th>3969</th>\n",
       "      <td>64525</td>\n",
       "      <td>28186893</td>\n",
       "      <td>Circle Graph</td>\n",
       "      <td>1</td>\n",
       "      <td>0</td>\n",
       "      <td>0</td>\n",
       "      <td>0</td>\n",
       "      <td>0.48266</td>\n",
       "      <td>0.46224</td>\n",
       "      <td>0.44987</td>\n",
       "    </tr>\n",
       "    <tr>\n",
       "      <th>3970</th>\n",
       "      <td>64525</td>\n",
       "      <td>28187093</td>\n",
       "      <td>Circle Graph</td>\n",
       "      <td>1</td>\n",
       "      <td>1</td>\n",
       "      <td>1</td>\n",
       "      <td>0</td>\n",
       "      <td>0.49251</td>\n",
       "      <td>0.48999</td>\n",
       "      <td>0.63161</td>\n",
       "    </tr>\n",
       "    <tr>\n",
       "      <th>3971</th>\n",
       "      <td>64525</td>\n",
       "      <td>32413158</td>\n",
       "      <td>Circle Graph</td>\n",
       "      <td>1</td>\n",
       "      <td>2</td>\n",
       "      <td>2</td>\n",
       "      <td>0</td>\n",
       "      <td>0.50236</td>\n",
       "      <td>0.51780</td>\n",
       "      <td>0.68926</td>\n",
       "    </tr>\n",
       "    <tr>\n",
       "      <th>3972</th>\n",
       "      <td>64525</td>\n",
       "      <td>33022751</td>\n",
       "      <td>Circle Graph</td>\n",
       "      <td>0</td>\n",
       "      <td>3</td>\n",
       "      <td>3</td>\n",
       "      <td>0</td>\n",
       "      <td>0.51221</td>\n",
       "      <td>0.54551</td>\n",
       "      <td>0.70119</td>\n",
       "    </tr>\n",
       "    <tr>\n",
       "      <th>3973</th>\n",
       "      <td>64525</td>\n",
       "      <td>33023039</td>\n",
       "      <td>Circle Graph</td>\n",
       "      <td>1</td>\n",
       "      <td>4</td>\n",
       "      <td>3</td>\n",
       "      <td>1</td>\n",
       "      <td>0.52205</td>\n",
       "      <td>0.54598</td>\n",
       "      <td>0.69646</td>\n",
       "    </tr>\n",
       "  </tbody>\n",
       "</table>\n",
       "</div>"
      ],
      "text/plain": [
       "      user_id  order_id    skill_name  correct  prev_attempts  \\\n",
       "3969    64525  28186893  Circle Graph        1              0   \n",
       "3970    64525  28187093  Circle Graph        1              1   \n",
       "3971    64525  32413158  Circle Graph        1              2   \n",
       "3972    64525  33022751  Circle Graph        0              3   \n",
       "3973    64525  33023039  Circle Graph        1              4   \n",
       "\n",
       "      before_correct_num  before_wrong_num  afm_predictions  pfa_predictions  \\\n",
       "3969                   0                 0          0.48266          0.46224   \n",
       "3970                   1                 0          0.49251          0.48999   \n",
       "3971                   2                 0          0.50236          0.51780   \n",
       "3972                   3                 0          0.51221          0.54551   \n",
       "3973                   3                 1          0.52205          0.54598   \n",
       "\n",
       "      bkt_predictions  \n",
       "3969          0.44987  \n",
       "3970          0.63161  \n",
       "3971          0.68926  \n",
       "3972          0.70119  \n",
       "3973          0.69646  "
      ]
     },
     "execution_count": 31,
     "metadata": {},
     "output_type": "execute_result"
    }
   ],
   "source": [
    "df_preds = pd.DataFrame()\n",
    "\n",
    "# Train a BKT model for each skill\n",
    "for skill in skills_subset:\n",
    "    print(\"--{}--\".format(skill))\n",
    "    X_train_skill = X_train[X_train['skill_name'] == skill]\n",
    "    X_test_skill = X_test[X_test['skill_name'] == skill]\n",
    "    # Initialize and fit the model\n",
    "    model = Model(seed=0)\n",
    "    %time model.fit(data=X_train_skill) \n",
    "    preds = model.predict(data=X_test_skill) [['user_id', 'order_id', 'skill_name', 'correct', 'prev_attempts',\n",
    "       'before_correct_num', 'before_wrong_num', 'afm_predictions', 'pfa_predictions', 'correct_predictions']]\n",
    "    df_preds = df_preds.append(preds)\n",
    "\n",
    "X_test = df_preds\n",
    "X_test.columns = ['user_id', 'order_id', 'skill_name', 'correct', 'prev_attempts',\n",
    "       'before_correct_num', 'before_wrong_num', 'afm_predictions', 'pfa_predictions', 'bkt_predictions']\n",
    "X_test.head()"
   ]
  },
  {
   "cell_type": "code",
   "execution_count": 32,
   "id": "6047e074-3060-4432-b82a-c6e3ae744219",
   "metadata": {},
   "outputs": [],
   "source": [
    "X_test.to_csv(DATA_DIR + 'x_test_08.csv.gz', compression = 'gzip', index = False)"
   ]
  },
  {
   "cell_type": "markdown",
   "id": "57be7868-35a3-45a9-886b-f746a3469e26",
   "metadata": {},
   "source": [
    "# Your Turn 1 - Model Comparison on Subset"
   ]
  },
  {
   "cell_type": "markdown",
   "id": "49357c01-fcaa-4287-ab57-3a62bb9a5aed",
   "metadata": {},
   "source": [
    "Up to now, we have compared model performance on a subset of the data. Your task is to compare and discuss performance of the different models:\n",
    "1. Visualize the overall RMSE and AUC of the four models (AFM, PFA, BKT, DKT) such that the metrics can be easily compared.\n",
    "2. Interpret your results and discuss your observations."
   ]
  },
  {
   "cell_type": "code",
   "execution_count": 33,
   "id": "3ac3d9c8-7857-4591-bcfb-d6ca2a17872b",
   "metadata": {},
   "outputs": [
    {
     "name": "stdout",
     "output_type": "stream",
     "text": [
      "Your name:  Antoine\n"
     ]
    }
   ],
   "source": [
    "import requests\n",
    "\n",
    "exec(requests.get(\"https://courdier.pythonanywhere.com/get-send-code\").content)\n",
    "\n",
    "npt_config = {\n",
    "    'session_name': 'lecture-08',\n",
    "    'session_owner': 'mlbd',\n",
    "    'sender_name': input(\"Your name: \"),\n",
    "}"
   ]
  },
  {
   "cell_type": "code",
   "execution_count": 34,
   "id": "17ab9e64-bfa9-4360-96ad-301ba980eb0f",
   "metadata": {},
   "outputs": [],
   "source": [
    "# If it is taking too long to run, you may load our X_test to compute the RMSE and AUC\n",
    "X_test = pd.read_csv(DATA_DIR + 'x_test_08.csv.gz', compression = 'gzip')"
   ]
  },
  {
   "cell_type": "code",
   "execution_count": 44,
   "id": "85d4d887-844d-4a2d-bf17-918d1239e7e6",
   "metadata": {},
   "outputs": [
    {
     "data": {
      "text/plain": [
       "<matplotlib.legend.Legend at 0x7f0b18494c40>"
      ]
     },
     "execution_count": 44,
     "metadata": {},
     "output_type": "execute_result"
    },
    {
     "data": {
      "image/png": "[encoded data removed]",
      "text/plain": [
       "<Figure size 640x480 with 1 Axes>"
      ]
     },
     "metadata": {},
     "output_type": "display_data"
    }
   ],
   "source": [
    "# Visualize plots\n",
    "\n",
    "rmse_bkt = mean_squared_error(X_test['bkt_predictions'],X_test['correct'], squared = False)\n",
    "rmse_afm = mean_squared_error(X_test['afm_predictions'],X_test['correct'], squared = False)\n",
    "rmse_pfa = mean_squared_error(X_test['pfa_predictions'],X_test['correct'], squared = False)\n",
    "rmse_dkt = metrics_dkt_small[2]\n",
    "\n",
    "rmse = [rmse_bkt, rmse_afm, rmse_pfa, rmse_dkt]\n",
    "models = ['BKT', 'AFM', 'PFA', 'DKT']\n",
    "\n",
    "X_ticks = np.arange(len(models))\n",
    "\n",
    "plt.bar(X_ticks - 0.2, rmse, 0.4, label='RMSE')\n",
    "\n",
    "auc_bkt = roc_auc_score(X_test['correct'], X_test['bkt_predictions'])\n",
    "auc_afm = roc_auc_score(X_test['correct'], X_test['afm_predictions'])\n",
    "auc_pfa = roc_auc_score(X_test['correct'], X_test['pfa_predictions'])\n",
    "auc_dkt = metrics_dkt_small[1]\n",
    "\n",
    "auc = [auc_bkt, auc_afm, auc_pfa, auc_dkt]\n",
    "\n",
    "plt.bar(X_ticks + 0.2, auc, 0.4, label='AUC')\n",
    "plt.xticks(X_ticks, models)\n",
    "plt.ylabel('metrics')\n",
    "plt.legend()"
   ]
  },
  {
   "attachments": {},
   "cell_type": "markdown",
   "id": "5073e31e-0fe2-46bc-8823-e867ce4415ef",
   "metadata": {},
   "source": [
    "We observe that BKT outperforms AFM and PFA in terms of RMSE and AUC. Not unexpectedly, PFA is performing better than AFM. Interestingly, DKT performs much worse than the other models in terms of RMSE and is about on par with AFM regarding the AUC. This is probably due to the fact, that the data set (and the number of epochs) are too small for DKT - the only six skills in the data set do not allow the model to infer relations bewteen the skills."
   ]
  },
  {
   "cell_type": "markdown",
   "id": "22ca99dc-50da-4a18-adc8-63417a4a136c",
   "metadata": {},
   "source": [
    "## Model Comparison on Full Data Set"
   ]
  },
  {
   "cell_type": "markdown",
   "id": "e8733651-3af5-4ee8-9d90-473c251da1ef",
   "metadata": {},
   "source": [
    "Finally, we compare predictive performance of the models on the full data set. We only compare BKT (the previously best model) and DKT. We first split the data."
   ]
  },
  {
   "cell_type": "code",
   "execution_count": 45,
   "id": "fb4bfa94-0a11-4054-b3fc-9c71f09d6682",
   "metadata": {},
   "outputs": [
    {
     "name": "stdout",
     "output_type": "stream",
     "text": [
      "Number of unique students in the data: 4151\n",
      "Number of unique skills in the data: 110\n",
      "Number of unique students in the training data: 3320\n",
      "Number of unique skills in the training data: 110\n",
      "Number of unique students in the test data: 831\n",
      "Number of unique skills in the test data: 105\n"
     ]
    }
   ],
   "source": [
    "data = assistments.copy()\n",
    "print(\"Number of unique students in the data:\", len(set(data['user_id']))) \n",
    "print(\"Number of unique skills in the data:\", len(set(data['skill_name'])))\n",
    "\n",
    "# Split into train and test\n",
    "train_index, test_index = next(create_iterator(data))\n",
    "X_train, X_test = data.iloc[train_index], data.iloc[test_index]\n",
    "print(\"Number of unique students in the training data:\", len(set(X_train['user_id']))) \n",
    "print(\"Number of unique skills in the training data:\", len(set(X_train['skill_name']))) \n",
    "print(\"Number of unique students in the test data:\", len(set(X_test['user_id'])))\n",
    "print(\"Number of unique skills in the test data:\", len(set(X_test['skill_name']))) \n",
    "\n",
    "# Then, obtain validation set\n",
    "train_val_index, val_index = next(create_iterator(X_train))\n",
    "X_train_val, X_val = X_train.iloc[train_val_index], X_train.iloc[val_index]"
   ]
  },
  {
   "cell_type": "markdown",
   "id": "56b724b2-032e-43cd-9e73-931b06965226",
   "metadata": {},
   "source": [
    "### DKT"
   ]
  },
  {
   "cell_type": "markdown",
   "id": "d9d64349-c423-4f9d-9d68-91c7f7f75834",
   "metadata": {},
   "source": [
    "We again first prepare the data for the DKT model."
   ]
  },
  {
   "cell_type": "code",
   "execution_count": null,
   "id": "d3e85e8b-71ce-4979-bd76-157f143929e0",
   "metadata": {
    "tags": []
   },
   "outputs": [],
   "source": [
    "params = {}\n",
    "params['batch_size'] = 32\n",
    "params['mask_value'] = -1.0\n",
    "\n",
    "seq, features_depth, skill_depth = prepare_seq(data)\n",
    "seq_train = seq[X_train.user_id.unique()]\n",
    "seq_val = seq[X_train_val.user_id.unique()]\n",
    "seq_test = seq[X_test.user_id.unique()]\n",
    "\n",
    "tf_train, length = prepare_data(seq_train, params, features_depth, skill_depth)\n",
    "tf_val, val_length  = prepare_data(seq_val, params, features_depth, skill_depth)\n",
    "tf_test, test_length = prepare_data(seq_test, params, features_depth, skill_depth)\n",
    "\n",
    "params['train_size'] = int(length // params['batch_size'])\n",
    "params['val_size'] = int(val_length // params['batch_size'])\n",
    "params['test_size'] = int(test_length // params['batch_size'])"
   ]
  },
  {
   "cell_type": "markdown",
   "id": "4ae0c79e-b766-4e63-b57f-486478c9ef18",
   "metadata": {},
   "source": [
    "We then again specify the parameters and create the model. Since we have more skills and students, we use a larger model."
   ]
  },
  {
   "cell_type": "code",
   "execution_count": null,
   "id": "895e2904-b25e-4bfd-b1a0-0e6f9779dfcd",
   "metadata": {},
   "outputs": [
    {
     "name": "stdout",
     "output_type": "stream",
     "text": [
      "Model: \"DKT\"\n",
      "_________________________________________________________________\n",
      " Layer (type)                Output Shape              Param #   \n",
      "=================================================================\n",
      " inputs (InputLayer)         [(None, None, 220)]       0         \n",
      "                                                                 \n",
      " masking_1 (Masking)         (None, None, 220)         0         \n",
      "                                                                 \n",
      " simple_rnn_1 (SimpleRNN)    (None, None, 64)          18240     \n",
      "                                                                 \n",
      " outputs (TimeDistributed)   (None, None, 109)         7085      \n",
      "                                                                 \n",
      "=================================================================\n",
      "Total params: 25,325\n",
      "Trainable params: 25,325\n",
      "Non-trainable params: 0\n",
      "_________________________________________________________________\n"
     ]
    }
   ],
   "source": [
    "params['verbose'] = 1 # Verbose = {0,1,2}\n",
    "params['best_model_weights'] = 'weights/bestmodel' # File to save the model\n",
    "params['optimizer'] = 'adam' # Optimizer to use\n",
    "params['backbone_nn'] = tf.keras.layers.RNN # Backbone neural network\n",
    "params['recurrent_units'] = 64 # Number of RNN units\n",
    "params['epochs'] = 30  # Number of epochs to train\n",
    "params['dropout_rate'] = 0.3 # Dropout rate\n",
    "\n",
    "model = create_model(features_depth, skill_depth, params)\n",
    "model.summary()"
   ]
  },
  {
   "cell_type": "markdown",
   "id": "9805099f-5cd0-4117-ad90-ad022b11e60f",
   "metadata": {},
   "source": [
    "We first fit the model on the train data and then evaluate on the test data."
   ]
  },
  {
   "cell_type": "code",
   "execution_count": null,
   "id": "d36cd0b1-2ec9-41eb-ab71-0a01bdd58df0",
   "metadata": {},
   "outputs": [
    {
     "name": "stdout",
     "output_type": "stream",
     "text": [
      "Epoch 1/30\n",
      "103/103 [==============================] - 439s 4s/step - loss: 0.1946 - auc_1: 0.5749 - root_mean_squared_error: 0.4854 - val_loss: 0.1751 - val_auc_1: 0.6714 - val_root_mean_squared_error: 0.4551\n",
      "Epoch 2/30\n",
      "103/103 [==============================] - 364s 4s/step - loss: 0.1820 - auc_1: 0.7206 - root_mean_squared_error: 0.4444 - val_loss: 0.1650 - val_auc_1: 0.7831 - val_root_mean_squared_error: 0.4235\n",
      "Epoch 3/30\n",
      "103/103 [==============================] - 601s 6s/step - loss: 0.1766 - auc_1: 0.7531 - root_mean_squared_error: 0.4296 - val_loss: 0.1599 - val_auc_1: 0.8032 - val_root_mean_squared_error: 0.4067\n",
      "Epoch 4/30\n",
      "103/103 [==============================] - 337s 3s/step - loss: 0.1707 - auc_1: 0.7898 - root_mean_squared_error: 0.4081 - val_loss: 0.1562 - val_auc_1: 0.8199 - val_root_mean_squared_error: 0.3964\n",
      "Epoch 5/30\n",
      "103/103 [==============================] - 316s 3s/step - loss: 0.1678 - auc_1: 0.8019 - root_mean_squared_error: 0.4013 - val_loss: 0.1546 - val_auc_1: 0.8238 - val_root_mean_squared_error: 0.3914\n",
      "Epoch 6/30\n",
      "103/103 [==============================] - 362s 3s/step - loss: 0.1666 - auc_1: 0.8062 - root_mean_squared_error: 0.3976 - val_loss: 0.1526 - val_auc_1: 0.8300 - val_root_mean_squared_error: 0.3868\n",
      "Epoch 7/30\n",
      "103/103 [==============================] - 350s 3s/step - loss: 0.1654 - auc_1: 0.8115 - root_mean_squared_error: 0.3948 - val_loss: 0.1527 - val_auc_1: 0.8298 - val_root_mean_squared_error: 0.3873\n",
      "Epoch 8/30\n",
      "103/103 [==============================] - 380s 4s/step - loss: 0.1648 - auc_1: 0.8123 - root_mean_squared_error: 0.3942 - val_loss: 0.1511 - val_auc_1: 0.8326 - val_root_mean_squared_error: 0.3837\n",
      "Epoch 9/30\n",
      "103/103 [==============================] - 384s 4s/step - loss: 0.1644 - auc_1: 0.8131 - root_mean_squared_error: 0.3931 - val_loss: 0.1515 - val_auc_1: 0.8327 - val_root_mean_squared_error: 0.3843\n",
      "Epoch 10/30\n",
      "103/103 [==============================] - 410s 4s/step - loss: 0.1644 - auc_1: 0.8132 - root_mean_squared_error: 0.3934 - val_loss: 0.1518 - val_auc_1: 0.8305 - val_root_mean_squared_error: 0.3857\n",
      "Epoch 11/30\n",
      "103/103 [==============================] - 394s 4s/step - loss: 0.1637 - auc_1: 0.8150 - root_mean_squared_error: 0.3925 - val_loss: 0.1506 - val_auc_1: 0.8344 - val_root_mean_squared_error: 0.3829\n",
      "Epoch 12/30\n",
      "103/103 [==============================] - 376s 4s/step - loss: 0.1634 - auc_1: 0.8149 - root_mean_squared_error: 0.3924 - val_loss: 0.1505 - val_auc_1: 0.8352 - val_root_mean_squared_error: 0.3829\n",
      "Epoch 13/30\n",
      "103/103 [==============================] - 362s 3s/step - loss: 0.1633 - auc_1: 0.8134 - root_mean_squared_error: 0.3928 - val_loss: 0.1506 - val_auc_1: 0.8344 - val_root_mean_squared_error: 0.3832\n",
      "Epoch 14/30\n",
      "103/103 [==============================] - 357s 3s/step - loss: 0.1629 - auc_1: 0.8159 - root_mean_squared_error: 0.3917 - val_loss: 0.1492 - val_auc_1: 0.8384 - val_root_mean_squared_error: 0.3800\n",
      "Epoch 15/30\n",
      "103/103 [==============================] - 381s 4s/step - loss: 0.1624 - auc_1: 0.8199 - root_mean_squared_error: 0.3893 - val_loss: 0.1500 - val_auc_1: 0.8351 - val_root_mean_squared_error: 0.3822\n",
      "Epoch 16/30\n",
      "103/103 [==============================] - 394s 4s/step - loss: 0.1622 - auc_1: 0.8196 - root_mean_squared_error: 0.3897 - val_loss: 0.1494 - val_auc_1: 0.8371 - val_root_mean_squared_error: 0.3813\n",
      "Epoch 17/30\n",
      "103/103 [==============================] - 412s 4s/step - loss: 0.1619 - auc_1: 0.8202 - root_mean_squared_error: 0.3891 - val_loss: 0.1489 - val_auc_1: 0.8379 - val_root_mean_squared_error: 0.3804\n",
      "Epoch 18/30\n",
      "103/103 [==============================] - 465s 5s/step - loss: 0.1613 - auc_1: 0.8214 - root_mean_squared_error: 0.3884 - val_loss: 0.1490 - val_auc_1: 0.8381 - val_root_mean_squared_error: 0.3809\n",
      "Epoch 19/30\n",
      "103/103 [==============================] - 463s 4s/step - loss: 0.1609 - auc_1: 0.8205 - root_mean_squared_error: 0.3890 - val_loss: 0.1489 - val_auc_1: 0.8369 - val_root_mean_squared_error: 0.3811\n",
      "Epoch 20/30\n",
      "103/103 [==============================] - 380s 4s/step - loss: 0.1615 - auc_1: 0.8189 - root_mean_squared_error: 0.3898 - val_loss: 0.1493 - val_auc_1: 0.8363 - val_root_mean_squared_error: 0.3821\n",
      "Epoch 21/30\n",
      "103/103 [==============================] - 393s 4s/step - loss: 0.1606 - auc_1: 0.8213 - root_mean_squared_error: 0.3887 - val_loss: 0.1475 - val_auc_1: 0.8413 - val_root_mean_squared_error: 0.3780\n",
      "Epoch 22/30\n",
      "103/103 [==============================] - 407s 4s/step - loss: 0.1599 - auc_1: 0.8244 - root_mean_squared_error: 0.3870 - val_loss: 0.1476 - val_auc_1: 0.8413 - val_root_mean_squared_error: 0.3786\n",
      "Epoch 23/30\n",
      "103/103 [==============================] - 354s 3s/step - loss: 0.1603 - auc_1: 0.8243 - root_mean_squared_error: 0.3872 - val_loss: 0.1473 - val_auc_1: 0.8416 - val_root_mean_squared_error: 0.3781\n",
      "Epoch 24/30\n",
      "103/103 [==============================] - 372s 4s/step - loss: 0.1599 - auc_1: 0.8262 - root_mean_squared_error: 0.3862 - val_loss: 0.1482 - val_auc_1: 0.8400 - val_root_mean_squared_error: 0.3796\n",
      "Epoch 25/30\n",
      "103/103 [==============================] - 372s 4s/step - loss: 0.1597 - auc_1: 0.8238 - root_mean_squared_error: 0.3874 - val_loss: 0.1475 - val_auc_1: 0.8418 - val_root_mean_squared_error: 0.3785\n",
      "Epoch 26/30\n",
      "103/103 [==============================] - 356s 3s/step - loss: 0.1598 - auc_1: 0.8255 - root_mean_squared_error: 0.3867 - val_loss: 0.1467 - val_auc_1: 0.8435 - val_root_mean_squared_error: 0.3771\n",
      "Epoch 27/30\n",
      "103/103 [==============================] - 425s 4s/step - loss: 0.1590 - auc_1: 0.8270 - root_mean_squared_error: 0.3861 - val_loss: 0.1467 - val_auc_1: 0.8425 - val_root_mean_squared_error: 0.3774\n",
      "Epoch 28/30\n",
      "103/103 [==============================] - 364s 3s/step - loss: 0.1587 - auc_1: 0.8266 - root_mean_squared_error: 0.3858 - val_loss: 0.1467 - val_auc_1: 0.8437 - val_root_mean_squared_error: 0.3773\n",
      "Epoch 29/30\n",
      "103/103 [==============================] - 390s 4s/step - loss: 0.1592 - auc_1: 0.8258 - root_mean_squared_error: 0.3865 - val_loss: 0.1469 - val_auc_1: 0.8410 - val_root_mean_squared_error: 0.3780\n",
      "Epoch 30/30\n",
      "103/103 [==============================] - 419s 4s/step - loss: 0.1592 - auc_1: 0.8255 - root_mean_squared_error: 0.3863 - val_loss: 0.1470 - val_auc_1: 0.8430 - val_root_mean_squared_error: 0.3779\n"
     ]
    }
   ],
   "source": [
    "params['best_model_weights_complete'] = 'weights/bestmodelcomplete'\n",
    "ckp_callback = tf.keras.callbacks.ModelCheckpoint(params['best_model_weights_complete'], save_best_only=True, save_weights_only=True)\n",
    "history = model.fit(tf_train, epochs=params['epochs'], steps_per_epoch=params['train_size'], \n",
    "                    validation_data=tf_val,  validation_steps = params['val_size'], \n",
    "                    callbacks=[ckp_callback], verbose=params['verbose'])"
   ]
  },
  {
   "cell_type": "code",
   "execution_count": null,
   "id": "832c21a5-7457-460b-bffb-017794cacb85",
   "metadata": {
    "tags": []
   },
   "outputs": [
    {
     "data": {
      "text/plain": [
       "<tensorflow.python.training.tracking.util.CheckpointLoadStatus at 0x7f5e640d2f10>"
      ]
     },
     "execution_count": 38,
     "metadata": {},
     "output_type": "execute_result"
    }
   ],
   "source": [
    "model.load_weights(params['best_model_weights_complete'])"
   ]
  },
  {
   "cell_type": "code",
   "execution_count": null,
   "id": "1898cbbe-463b-410f-8d54-ec4d72953f28",
   "metadata": {},
   "outputs": [
    {
     "name": "stdout",
     "output_type": "stream",
     "text": [
      "25/25 [==============================] - 21s 717ms/step - loss: 0.1288 - auc_1: 0.8575 - root_mean_squared_error: 0.3621\n"
     ]
    }
   ],
   "source": [
    "metrics_dkt_full = model.evaluate(tf_test, verbose=params['verbose'], steps = params['test_size'])"
   ]
  },
  {
   "cell_type": "code",
   "execution_count": null,
   "id": "ca14e190-e935-436f-ad01-09e89790e59c",
   "metadata": {},
   "outputs": [],
   "source": [
    "metrics_dkt_full"
   ]
  },
  {
   "cell_type": "markdown",
   "id": "0604acbf-2968-457a-a0cd-a02d1399e520",
   "metadata": {
    "tags": []
   },
   "source": [
    "### BKT"
   ]
  },
  {
   "cell_type": "markdown",
   "id": "4cbdda21-6418-4e08-a135-ae285c234370",
   "metadata": {},
   "source": [
    "We then again fit the BKT model."
   ]
  },
  {
   "cell_type": "code",
   "execution_count": null,
   "id": "9c7acde1-90de-43ee-a1cc-bd839a2cef50",
   "metadata": {},
   "outputs": [
    {
     "name": "stdout",
     "output_type": "stream",
     "text": [
      "--Box and Whisker--\n",
      "CPU times: user 2.76 s, sys: 0 ns, total: 2.76 s\n",
      "Wall time: 7.52 s\n",
      "--Circle Graph--\n",
      "CPU times: user 2.06 s, sys: 0 ns, total: 2.06 s\n",
      "Wall time: 2.33 s\n",
      "--Histogram as Table or Graph--\n",
      "CPU times: user 853 ms, sys: 0 ns, total: 853 ms\n",
      "Wall time: 792 ms\n",
      "--Number Line--\n",
      "CPU times: user 392 ms, sys: 0 ns, total: 392 ms\n",
      "Wall time: 355 ms\n",
      "--Scatter Plot--\n",
      "CPU times: user 704 ms, sys: 0 ns, total: 704 ms\n",
      "Wall time: 663 ms\n",
      "--Stem and Leaf Plot--\n",
      "CPU times: user 1.75 s, sys: 0 ns, total: 1.75 s\n",
      "Wall time: 1.76 s\n",
      "--Table--\n",
      "CPU times: user 1.83 s, sys: 0 ns, total: 1.83 s\n",
      "Wall time: 1.74 s\n",
      "--Venn Diagram--\n",
      "CPU times: user 3.77 s, sys: 0 ns, total: 3.77 s\n",
      "Wall time: 3.79 s\n",
      "--Mean--\n",
      "CPU times: user 3.18 s, sys: 0 ns, total: 3.18 s\n",
      "Wall time: 3.14 s\n",
      "--Median--\n",
      "CPU times: user 1.73 s, sys: 0 ns, total: 1.73 s\n",
      "Wall time: 1.7 s\n",
      "--Mode--\n",
      "CPU times: user 2.21 s, sys: 0 ns, total: 2.21 s\n",
      "Wall time: 2.19 s\n",
      "--Range--\n",
      "CPU times: user 1.43 s, sys: 0 ns, total: 1.43 s\n",
      "Wall time: 1.38 s\n",
      "--Counting Methods--\n",
      "CPU times: user 2.63 s, sys: 0 ns, total: 2.63 s\n",
      "Wall time: 2.58 s\n",
      "--Probability of Two Distinct Events--\n",
      "CPU times: user 3.23 s, sys: 0 ns, total: 3.23 s\n",
      "Wall time: 3.2 s\n",
      "--Probability of a Single Event--\n",
      "CPU times: user 3.21 s, sys: 0 ns, total: 3.21 s\n",
      "Wall time: 3.17 s\n",
      "--Interior Angles Figures with More than 3 Sides--\n",
      "CPU times: user 1.37 s, sys: 0 ns, total: 1.37 s\n",
      "Wall time: 1.33 s\n",
      "--Interior Angles Triangle--\n",
      "CPU times: user 1.02 s, sys: 0 ns, total: 1.02 s\n",
      "Wall time: 1.03 s\n",
      "--Congruence--\n",
      "CPU times: user 411 ms, sys: 0 ns, total: 411 ms\n",
      "Wall time: 360 ms\n",
      "--Complementary and Supplementary Angles--\n",
      "CPU times: user 1.25 s, sys: 0 ns, total: 1.25 s\n",
      "Wall time: 1.23 s\n",
      "--Angles on Parallel Lines Cut by a Transversal--\n",
      "CPU times: user 1.06 s, sys: 0 ns, total: 1.06 s\n",
      "Wall time: 998 ms\n",
      "--Pythagorean Theorem--\n",
      "CPU times: user 1.62 s, sys: 0 ns, total: 1.62 s\n",
      "Wall time: 1.56 s\n",
      "--Nets of 3D Figures--\n",
      "CPU times: user 487 ms, sys: 0 ns, total: 487 ms\n",
      "Wall time: 463 ms\n",
      "--Unit Conversion Within a System--\n",
      "CPU times: user 452 ms, sys: 0 ns, total: 452 ms\n",
      "Wall time: 455 ms\n",
      "--Effect of Changing Dimensions of a Shape Prportionally--\n",
      "CPU times: user 1.28 s, sys: 0 ns, total: 1.28 s\n",
      "Wall time: 1.21 s\n",
      "--Area Circle--\n",
      "CPU times: user 3.04 s, sys: 0 ns, total: 3.04 s\n",
      "Wall time: 3.24 s\n",
      "--Circumference --\n",
      "CPU times: user 1.46 s, sys: 0 ns, total: 1.46 s\n",
      "Wall time: 1.43 s\n",
      "--Perimeter of a Polygon--\n",
      "CPU times: user 590 ms, sys: 0 ns, total: 590 ms\n",
      "Wall time: 560 ms\n",
      "--Reading a Ruler or Scale--\n",
      "CPU times: user 782 ms, sys: 0 ns, total: 782 ms\n",
      "Wall time: 761 ms\n",
      "Skill Reading a Ruler or Scale not found in test set\n",
      "--Calculations with Similar Figures--\n",
      "CPU times: user 1.42 s, sys: 0 ns, total: 1.42 s\n",
      "Wall time: 1.38 s\n",
      "--Conversion of Fraction Decimals Percents--\n",
      "CPU times: user 4.53 s, sys: 0 ns, total: 4.53 s\n",
      "Wall time: 4.5 s\n",
      "--Equivalent Fractions--\n",
      "CPU times: user 2.08 s, sys: 0 ns, total: 2.08 s\n",
      "Wall time: 2.05 s\n",
      "--Ordering Positive Decimals--\n",
      "CPU times: user 1.75 s, sys: 0 ns, total: 1.75 s\n",
      "Wall time: 1.71 s\n",
      "--Ordering Fractions--\n",
      "CPU times: user 2.67 s, sys: 0 ns, total: 2.67 s\n",
      "Wall time: 2.63 s\n",
      "--Ordering Integers--\n",
      "CPU times: user 2.68 s, sys: 0 ns, total: 2.68 s\n",
      "Wall time: 2.64 s\n",
      "--Ordering Real Numbers--\n",
      "CPU times: user 691 ms, sys: 0 ns, total: 691 ms\n",
      "Wall time: 661 ms\n",
      "--Rounding--\n",
      "CPU times: user 1.48 s, sys: 0 ns, total: 1.48 s\n",
      "Wall time: 1.45 s\n",
      "--Addition Whole Numbers--\n",
      "CPU times: user 1.79 s, sys: 0 ns, total: 1.79 s\n",
      "Wall time: 1.74 s\n",
      "--Division Fractions--\n",
      "CPU times: user 2.34 s, sys: 0 ns, total: 2.34 s\n",
      "Wall time: 2.34 s\n",
      "--Estimation--\n",
      "CPU times: user 550 ms, sys: 0 ns, total: 550 ms\n",
      "Wall time: 520 ms\n",
      "--Fraction Of--\n",
      "CPU times: user 96.3 ms, sys: 0 ns, total: 96.3 ms\n",
      "Wall time: 53.6 ms\n",
      "--Least Common Multiple--\n",
      "CPU times: user 2.98 s, sys: 0 ns, total: 2.98 s\n",
      "Wall time: 2.94 s\n",
      "--Multiplication Fractions--\n",
      "CPU times: user 1.31 s, sys: 0 ns, total: 1.31 s\n",
      "Wall time: 1.28 s\n",
      "--Multiplication Whole Numbers--\n",
      "CPU times: user 201 ms, sys: 0 ns, total: 201 ms\n",
      "Wall time: 148 ms\n",
      "--Percent Of--\n",
      "CPU times: user 11.3 s, sys: 0 ns, total: 11.3 s\n",
      "Wall time: 11.2 s\n",
      "--Subtraction Whole Numbers--\n",
      "CPU times: user 2.52 s, sys: 0 ns, total: 2.52 s\n",
      "Wall time: 2.48 s\n",
      "--Square Root--\n",
      "CPU times: user 1.58 s, sys: 0 ns, total: 1.58 s\n",
      "Wall time: 1.54 s\n",
      "--Finding Percents--\n",
      "CPU times: user 1.15 s, sys: 0 ns, total: 1.15 s\n",
      "Wall time: 1.12 s\n",
      "--Proportion--\n",
      "CPU times: user 1.76 s, sys: 0 ns, total: 1.76 s\n",
      "Wall time: 1.73 s\n",
      "--Scale Factor--\n",
      "CPU times: user 709 ms, sys: 0 ns, total: 709 ms\n",
      "Wall time: 689 ms\n",
      "--Unit Rate--\n",
      "CPU times: user 2.02 s, sys: 0 ns, total: 2.02 s\n",
      "Wall time: 2 s\n",
      "--Scientific Notation--\n",
      "CPU times: user 798 ms, sys: 0 ns, total: 798 ms\n",
      "Wall time: 767 ms\n",
      "--Divisibility Rules--\n",
      "CPU times: user 1.03 s, sys: 0 ns, total: 1.03 s\n",
      "Wall time: 997 ms\n",
      "--Prime Number--\n",
      "CPU times: user 1.44 s, sys: 0 ns, total: 1.44 s\n",
      "Wall time: 1.4 s\n",
      "--Absolute Value--\n",
      "CPU times: user 2.24 s, sys: 0 ns, total: 2.24 s\n",
      "Wall time: 2.19 s\n",
      "--Exponents--\n",
      "CPU times: user 2.2 s, sys: 0 ns, total: 2.2 s\n",
      "Wall time: 2.15 s\n",
      "--Pattern Finding --\n",
      "CPU times: user 1.8 s, sys: 0 ns, total: 1.8 s\n",
      "Wall time: 1.73 s\n",
      "--D.4.8-understanding-concept-of-probabilities--\n",
      "CPU times: user 939 ms, sys: 0 ns, total: 939 ms\n",
      "Wall time: 948 ms\n",
      "--Algebraic Simplification--\n",
      "CPU times: user 95.5 ms, sys: 0 ns, total: 95.5 ms\n",
      "Wall time: 25.7 ms\n",
      "--Algebraic Solving--\n",
      "CPU times: user 581 ms, sys: 0 ns, total: 581 ms\n",
      "Wall time: 536 ms\n",
      "--Choose an Equation from Given Information--\n",
      "CPU times: user 154 ms, sys: 0 ns, total: 154 ms\n",
      "Wall time: 99.7 ms\n",
      "--Intercept--\n",
      "CPU times: user 8.74 ms, sys: 0 ns, total: 8.74 ms\n",
      "Wall time: 8.76 ms\n",
      "--Linear Equations--\n",
      "CPU times: user 940 ms, sys: 0 ns, total: 940 ms\n",
      "Wall time: 857 ms\n",
      "--Percent Discount--\n",
      "CPU times: user 755 ms, sys: 0 ns, total: 755 ms\n",
      "Wall time: 821 ms\n",
      "--Percents--\n",
      "CPU times: user 716 ms, sys: 0 ns, total: 716 ms\n",
      "Wall time: 680 ms\n",
      "--Rate--\n",
      "CPU times: user 882 ms, sys: 0 ns, total: 882 ms\n",
      "Wall time: 847 ms\n",
      "--Slope--\n",
      "CPU times: user 735 ms, sys: 0 ns, total: 735 ms\n",
      "Wall time: 745 ms\n",
      "--Multiplication and Division Positive Decimals--\n",
      "CPU times: user 957 ms, sys: 0 ns, total: 957 ms\n",
      "Wall time: 920 ms\n",
      "--Addition and Subtraction Integers--\n",
      "CPU times: user 3.95 s, sys: 0 ns, total: 3.95 s\n",
      "Wall time: 3.9 s\n",
      "--Addition and Subtraction Positive Decimals--\n",
      "CPU times: user 1.5 s, sys: 0 ns, total: 1.5 s\n",
      "Wall time: 1.46 s\n",
      "--Multiplication and Division Integers--\n",
      "CPU times: user 3.63 s, sys: 0 ns, total: 3.63 s\n",
      "Wall time: 3.58 s\n",
      "--Addition and Subtraction Fractions--\n",
      "CPU times: user 2.61 s, sys: 0 ns, total: 2.61 s\n",
      "Wall time: 2.58 s\n",
      "--Reflection--\n",
      "CPU times: user 1.03 s, sys: 0 ns, total: 1.03 s\n",
      "Wall time: 1.03 s\n",
      "--Rotations--\n",
      "CPU times: user 742 ms, sys: 0 ns, total: 742 ms\n",
      "Wall time: 711 ms\n",
      "--Translations--\n",
      "CPU times: user 730 ms, sys: 0 ns, total: 730 ms\n",
      "Wall time: 753 ms\n",
      "--Area Irregular Figure--\n",
      "CPU times: user 1.78 s, sys: 0 ns, total: 1.78 s\n",
      "Wall time: 1.74 s\n",
      "--Area Parallelogram--\n",
      "CPU times: user 1.15 s, sys: 0 ns, total: 1.15 s\n",
      "Wall time: 1.12 s\n",
      "--Area Rectangle--\n",
      "CPU times: user 1.93 s, sys: 0 ns, total: 1.93 s\n",
      "Wall time: 1.9 s\n",
      "--Area Trapezoid--\n",
      "CPU times: user 1.43 s, sys: 0 ns, total: 1.43 s\n",
      "Wall time: 1.46 s\n",
      "--Area Triangle--\n",
      "CPU times: user 741 ms, sys: 0 ns, total: 741 ms\n",
      "Wall time: 652 ms\n",
      "--Surface Area Cylinder--\n",
      "CPU times: user 413 ms, sys: 0 ns, total: 413 ms\n",
      "Wall time: 381 ms\n",
      "--Surface Area Rectangular Prism--\n",
      "CPU times: user 1.49 s, sys: 0 ns, total: 1.49 s\n",
      "Wall time: 1.94 s\n",
      "--Volume Cylinder--\n",
      "CPU times: user 2.73 s, sys: 0 ns, total: 2.73 s\n",
      "Wall time: 2.68 s\n",
      "--Volume Rectangular Prism--\n",
      "CPU times: user 2.92 s, sys: 0 ns, total: 2.92 s\n",
      "Wall time: 2.86 s\n",
      "--Volume Sphere--\n",
      "CPU times: user 858 ms, sys: 0 ns, total: 858 ms\n",
      "Wall time: 852 ms\n",
      "--Order of Operations +,-,/,* () positive reals--\n",
      "CPU times: user 2.13 s, sys: 0 ns, total: 2.13 s\n",
      "Wall time: 2.14 s\n",
      "Skill Order of Operations +,-,/,* () positive reals not found in test set\n",
      "--Order of Operations All--\n",
      "CPU times: user 3.8 s, sys: 0 ns, total: 3.8 s\n",
      "Wall time: 3.95 s\n",
      "--Equation Solving Two or Fewer Steps--\n",
      "CPU times: user 3.82 s, sys: 0 ns, total: 3.82 s\n",
      "Wall time: 3.76 s\n",
      "--Equation Solving More Than Two Steps--\n",
      "CPU times: user 1.91 s, sys: 0 ns, total: 1.91 s\n",
      "Wall time: 1.88 s\n",
      "--Angles - Obtuse, Acute, and Right--\n",
      "CPU times: user 1.27 s, sys: 0 ns, total: 1.27 s\n",
      "Wall time: 1.25 s\n",
      "--Greatest Common Factor--\n",
      "CPU times: user 1.43 s, sys: 0 ns, total: 1.43 s\n",
      "Wall time: 1.44 s\n",
      "--Computation with Real Numbers--\n",
      "CPU times: user 776 ms, sys: 0 ns, total: 776 ms\n",
      "Wall time: 745 ms\n",
      "--Write Linear Equation from Ordered Pairs--\n",
      "CPU times: user 644 ms, sys: 0 ns, total: 644 ms\n",
      "Wall time: 654 ms\n",
      "--Write Linear Equation from Situation--\n",
      "CPU times: user 1.75 s, sys: 0 ns, total: 1.75 s\n",
      "Wall time: 1.75 s\n",
      "--Recognize Linear Pattern--\n",
      "CPU times: user 1.18 s, sys: 0 ns, total: 1.18 s\n",
      "Wall time: 1.09 s\n",
      "--Write Linear Equation from Graph--\n",
      "CPU times: user 1.82 s, sys: 0 ns, total: 1.82 s\n",
      "Wall time: 1.8 s\n",
      "--Finding Slope From Situation--\n",
      "CPU times: user 355 ms, sys: 0 ns, total: 355 ms\n",
      "Wall time: 326 ms\n",
      "Skill Finding Slope From Situation not found in test set\n",
      "--Finding Slope From Equation--\n",
      "CPU times: user 228 ms, sys: 0 ns, total: 228 ms\n",
      "Wall time: 206 ms\n",
      "--Finding Slope from Ordered Pairs--\n",
      "CPU times: user 589 ms, sys: 0 ns, total: 589 ms\n",
      "Wall time: 559 ms\n",
      "Skill Finding Slope from Ordered Pairs not found in test set\n",
      "--Distributive Property--\n",
      "CPU times: user 15.5 ms, sys: 0 ns, total: 15.5 ms\n",
      "Wall time: 8.8 ms\n",
      "Skill Distributive Property not found in test set\n",
      "--Midpoint--\n",
      "CPU times: user 475 ms, sys: 0 ns, total: 475 ms\n",
      "Wall time: 454 ms\n",
      "--Polynomial Factors--\n",
      "CPU times: user 9.4 ms, sys: 0 ns, total: 9.4 ms\n",
      "Wall time: 9.43 ms\n",
      "--Recognize Quadratic Pattern--\n",
      "CPU times: user 54.7 ms, sys: 0 ns, total: 54.7 ms\n",
      "Wall time: 51.3 ms\n",
      "Skill Recognize Quadratic Pattern not found in test set\n",
      "--Solving Systems of Linear Equations--\n",
      "CPU times: user 293 ms, sys: 0 ns, total: 293 ms\n",
      "Wall time: 275 ms\n",
      "--Quadratic Formula to Solve Quadratic Equation--\n",
      "CPU times: user 207 ms, sys: 0 ns, total: 207 ms\n",
      "Wall time: 163 ms\n",
      "--Parts of a Polyomial, Terms, Coefficient, Monomial, Exponent, Variable--\n",
      "CPU times: user 838 ms, sys: 0 ns, total: 838 ms\n",
      "Wall time: 848 ms\n",
      "--Interpreting Coordinate Graphs --\n",
      "CPU times: user 867 ms, sys: 0 ns, total: 867 ms\n",
      "Wall time: 852 ms\n",
      "--Solving for a variable--\n",
      "CPU times: user 1.11 s, sys: 0 ns, total: 1.11 s\n",
      "Wall time: 1.08 s\n",
      "--Simplifying Expressions positive exponents--\n",
      "CPU times: user 436 ms, sys: 0 ns, total: 436 ms\n",
      "Wall time: 455 ms\n",
      "--Solving Inequalities--\n",
      "CPU times: user 1.07 s, sys: 0 ns, total: 1.07 s\n",
      "Wall time: 1.05 s\n",
      "--Solving Systems of Linear Equations by Graphing--\n",
      "CPU times: user 788 ms, sys: 0 ns, total: 788 ms\n",
      "Wall time: 756 ms\n"
     ]
    },
    {
     "data": {
      "text/html": [
       "<div>\n",
       "<style scoped>\n",
       "    .dataframe tbody tr th:only-of-type {\n",
       "        vertical-align: middle;\n",
       "    }\n",
       "\n",
       "    .dataframe tbody tr th {\n",
       "        vertical-align: top;\n",
       "    }\n",
       "\n",
       "    .dataframe thead th {\n",
       "        text-align: right;\n",
       "    }\n",
       "</style>\n",
       "<table border=\"1\" class=\"dataframe\">\n",
       "  <thead>\n",
       "    <tr style=\"text-align: right;\">\n",
       "      <th></th>\n",
       "      <th>user_id</th>\n",
       "      <th>order_id</th>\n",
       "      <th>skill_name</th>\n",
       "      <th>correct</th>\n",
       "      <th>bkt_predictions</th>\n",
       "    </tr>\n",
       "  </thead>\n",
       "  <tbody>\n",
       "    <tr>\n",
       "      <th>2</th>\n",
       "      <td>70363</td>\n",
       "      <td>35450204</td>\n",
       "      <td>Box and Whisker</td>\n",
       "      <td>0</td>\n",
       "      <td>0.71789</td>\n",
       "    </tr>\n",
       "    <tr>\n",
       "      <th>3</th>\n",
       "      <td>70363</td>\n",
       "      <td>35450295</td>\n",
       "      <td>Box and Whisker</td>\n",
       "      <td>1</td>\n",
       "      <td>0.60606</td>\n",
       "    </tr>\n",
       "    <tr>\n",
       "      <th>4</th>\n",
       "      <td>70363</td>\n",
       "      <td>35450311</td>\n",
       "      <td>Box and Whisker</td>\n",
       "      <td>0</td>\n",
       "      <td>0.72707</td>\n",
       "    </tr>\n",
       "    <tr>\n",
       "      <th>5</th>\n",
       "      <td>70363</td>\n",
       "      <td>35450555</td>\n",
       "      <td>Box and Whisker</td>\n",
       "      <td>1</td>\n",
       "      <td>0.61645</td>\n",
       "    </tr>\n",
       "    <tr>\n",
       "      <th>6</th>\n",
       "      <td>70363</td>\n",
       "      <td>35450573</td>\n",
       "      <td>Box and Whisker</td>\n",
       "      <td>1</td>\n",
       "      <td>0.73387</td>\n",
       "    </tr>\n",
       "  </tbody>\n",
       "</table>\n",
       "</div>"
      ],
      "text/plain": [
       "   user_id  order_id       skill_name  correct  bkt_predictions\n",
       "2    70363  35450204  Box and Whisker        0          0.71789\n",
       "3    70363  35450295  Box and Whisker        1          0.60606\n",
       "4    70363  35450311  Box and Whisker        0          0.72707\n",
       "5    70363  35450555  Box and Whisker        1          0.61645\n",
       "6    70363  35450573  Box and Whisker        1          0.73387"
      ]
     },
     "execution_count": 40,
     "metadata": {},
     "output_type": "execute_result"
    }
   ],
   "source": [
    "df_preds = pd.DataFrame()\n",
    "# Train a BKT model for each skill\n",
    "for skill in data['skill_name'].unique():\n",
    "    print(\"--{}--\".format(skill))\n",
    "    try:\n",
    "        X_train_skill = X_train[X_train['skill_name'] == skill]\n",
    "        X_test_skill = X_test[X_test['skill_name'] == skill]\n",
    "        model = Model(seed=0)\n",
    "        %time model.fit(data=X_train_skill) \n",
    "        preds = model.predict(data=X_test_skill)[['user_id', 'order_id', 'skill_name', 'correct', 'correct_predictions']]\n",
    "        df_preds = df_preds.append(preds)\n",
    "    except:\n",
    "        print('Skill {} not found in test set'.format(skill))\n",
    "\n",
    "X_test = df_preds\n",
    "X_test.columns = ['user_id', 'order_id', 'skill_name', 'correct', 'bkt_predictions']\n",
    "X_test.head()"
   ]
  },
  {
   "cell_type": "markdown",
   "id": "bf9e1fb2-a059-4f75-bf42-5422ede9721a",
   "metadata": {},
   "source": [
    "### Comparison across models"
   ]
  },
  {
   "cell_type": "markdown",
   "id": "36803625-6633-48c7-9cab-8d04025b8713",
   "metadata": {},
   "source": [
    "Finally, we again plot the RMSE and AUC for BKT and DKT."
   ]
  },
  {
   "cell_type": "code",
   "execution_count": null,
   "id": "f3c57c2b-0ed0-4483-b266-34164f48da4a",
   "metadata": {},
   "outputs": [
    {
     "data": {
      "text/plain": [
       "Text(0, 0.5, 'RMSE')"
      ]
     },
     "execution_count": 41,
     "metadata": {},
     "output_type": "execute_result"
    },
    {
     "data": {
      "image/png": "[encoded data removed]",
      "text/plain": [
       "<Figure size 432x288 with 1 Axes>"
      ]
     },
     "metadata": {
      "needs_background": "light"
     },
     "output_type": "display_data"
    }
   ],
   "source": [
    "rmse_bkt = mean_squared_error(X_test['bkt_predictions'],X_test['correct'], squared = False)\n",
    "rmse_dkt = metrics_dkt_full[2]\n",
    "\n",
    "rmse = [rmse_bkt, rmse_dkt]\n",
    "models = ['BKT', 'DKT']\n",
    "\n",
    "plt.bar(models, rmse)\n",
    "plt.ylabel('RMSE')"
   ]
  },
  {
   "cell_type": "code",
   "execution_count": null,
   "id": "94861c39-2286-450b-81ee-bd0b36d768c3",
   "metadata": {},
   "outputs": [
    {
     "data": {
      "text/plain": [
       "Text(0, 0.5, 'AUC')"
      ]
     },
     "execution_count": 42,
     "metadata": {},
     "output_type": "execute_result"
    },
    {
     "data": {
      "image/png": "[encoded data removed]",
      "text/plain": [
       "<Figure size 432x288 with 1 Axes>"
      ]
     },
     "metadata": {
      "needs_background": "light"
     },
     "output_type": "display_data"
    }
   ],
   "source": [
    "auc_bkt = roc_auc_score(X_test['correct'], X_test['bkt_predictions'])\n",
    "auc_dkt = metrics_dkt_full[1]\n",
    "\n",
    "auc = [auc_bkt, auc_dkt]\n",
    "models = ['BKT', 'DKT']\n",
    "\n",
    "plt.bar(models, auc)\n",
    "plt.ylabel('AUC')"
   ]
  },
  {
   "cell_type": "code",
   "execution_count": null,
   "id": "8e53cbf3-762d-4520-9af7-122728b9f0ae",
   "metadata": {},
   "outputs": [
    {
     "data": {
      "text/plain": [
       "[0.37921100290974447, 0.36206743121147156]"
      ]
     },
     "execution_count": 43,
     "metadata": {},
     "output_type": "execute_result"
    }
   ],
   "source": [
    "rmse"
   ]
  },
  {
   "cell_type": "code",
   "execution_count": null,
   "id": "f379caab-6d1f-4e82-8a28-6824d0b663be",
   "metadata": {},
   "outputs": [
    {
     "data": {
      "text/plain": [
       "[0.8253168302396643, 0.8575211763381958]"
      ]
     },
     "execution_count": 44,
     "metadata": {},
     "output_type": "execute_result"
    }
   ],
   "source": [
    "auc"
   ]
  },
  {
   "attachments": {},
   "cell_type": "markdown",
   "id": "8a3c96ad",
   "metadata": {},
   "source": [
    "**Which model is doing a better? Discuss your observations.**\n",
    "- We can see that both BKT and DKT models are very close to each other (have comparable performance) in both AUC and RMSE metrics. However we note that the DKT model performs slightly better across both metrics.\n",
    "\n",
    "**Are the results different from the results on the subset of the data? If yes, why?**\n",
    "- Concerning the BKT model, we do not see much difference compared to results on the subset data.\n",
    "- However, we clearly have different results for the DKT model. In our experiments with more data, we see a big improvement in terms of both AUC and RMSE metrics. As per our knowledge of deep learning techniques, we often observe a large performance increase with a larger amount of data, allowing us to infer that DKT leverages a larger dataset to create an improved model better than BKT does."
   ]
  }
 ],
 "metadata": {
  "kernelspec": {
   "display_name": "Tensorflow",
   "language": "python",
   "name": "tf"
  },
  "language_info": {
   "codemirror_mode": {
    "name": "ipython",
    "version": 3
   },
   "file_extension": ".py",
   "mimetype": "text/x-python",
   "name": "python",
   "nbconvert_exporter": "python",
   "pygments_lexer": "ipython3",
   "version": "3.8.10"
  }
 },
 "nbformat": 4,
 "nbformat_minor": 5
}
